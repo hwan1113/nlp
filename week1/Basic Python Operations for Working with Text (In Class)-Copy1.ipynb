{
 "cells": [
  {
   "cell_type": "markdown",
   "metadata": {
    "toc": true
   },
   "source": [
    "<h1>Table of Contents<span class=\"tocSkip\"></span></h1>\n",
    "<div class=\"toc\"><ul class=\"toc-item\"><li><ul class=\"toc-item\"><li><span><a href=\"#Installing-Required-Libraries\" data-toc-modified-id=\"Installing-Required-Libraries-0.1\"><span class=\"toc-item-num\">0.1&nbsp;&nbsp;</span>Installing Required Libraries</a></span><ul class=\"toc-item\"><li><ul class=\"toc-item\"><li><span><a href=\"#Getting-Familiar-With-Jupyter-Notebooks\" data-toc-modified-id=\"Getting-Familiar-With-Jupyter-Notebooks-0.1.0.1\"><span class=\"toc-item-num\">0.1.0.1&nbsp;&nbsp;</span>Getting Familiar With Jupyter Notebooks</a></span></li></ul></li></ul></li></ul></li><li><span><a href=\"#Week-1:-Basic-Python-Operations-for-Working-with-Text\" data-toc-modified-id=\"Week-1:-Basic-Python-Operations-for-Working-with-Text-1\"><span class=\"toc-item-num\">1&nbsp;&nbsp;</span>Week 1: Basic Python Operations for Working with Text</a></span></li><li><span><a href=\"#The-Scale-of-Data-in-the-21st-Century\" data-toc-modified-id=\"The-Scale-of-Data-in-the-21st-Century-2\"><span class=\"toc-item-num\">2&nbsp;&nbsp;</span>The Scale of Data in the 21st Century</a></span><ul class=\"toc-item\"><li><span><a href=\"#Overview\" data-toc-modified-id=\"Overview-2.1\"><span class=\"toc-item-num\">2.1&nbsp;&nbsp;</span>Overview</a></span><ul class=\"toc-item\"><li><ul class=\"toc-item\"><li><span><a href=\"#Text-Analytics\" data-toc-modified-id=\"Text-Analytics-2.1.0.1\"><span class=\"toc-item-num\">2.1.0.1&nbsp;&nbsp;</span>Text Analytics</a></span></li><li><span><a href=\"#Data-Engineering\" data-toc-modified-id=\"Data-Engineering-2.1.0.2\"><span class=\"toc-item-num\">2.1.0.2&nbsp;&nbsp;</span>Data Engineering</a></span></li><li><span><a href=\"#Statistics-/-Machine-Learning\" data-toc-modified-id=\"Statistics-/-Machine-Learning-2.1.0.3\"><span class=\"toc-item-num\">2.1.0.3&nbsp;&nbsp;</span>Statistics / Machine Learning</a></span></li></ul></li></ul></li><li><span><a href=\"#Loading-Text-into-Memory\" data-toc-modified-id=\"Loading-Text-into-Memory-2.2\"><span class=\"toc-item-num\">2.2&nbsp;&nbsp;</span>Loading Text into Memory</a></span><ul class=\"toc-item\"><li><ul class=\"toc-item\"><li><span><a href=\"#Opening-Files\" data-toc-modified-id=\"Opening-Files-2.2.0.1\"><span class=\"toc-item-num\">2.2.0.1&nbsp;&nbsp;</span>Opening Files</a></span></li></ul></li><li><span><a href=\"#An-Aside:-List-Comprehension\" data-toc-modified-id=\"An-Aside:-List-Comprehension-2.2.1\"><span class=\"toc-item-num\">2.2.1&nbsp;&nbsp;</span>An Aside: List Comprehension</a></span></li><li><span><a href=\"#Visualizing-Summary-Metrics-Using-Matplotlib\" data-toc-modified-id=\"Visualizing-Summary-Metrics-Using-Matplotlib-2.2.2\"><span class=\"toc-item-num\">2.2.2&nbsp;&nbsp;</span>Visualizing Summary Metrics Using Matplotlib</a></span></li><li><span><a href=\"#First-Method:-Create-a-Dictionary-to-Store-Word-Count\" data-toc-modified-id=\"First-Method:-Create-a-Dictionary-to-Store-Word-Count-2.2.3\"><span class=\"toc-item-num\">2.2.3&nbsp;&nbsp;</span>First Method: Create a Dictionary to Store Word Count</a></span></li><li><span><a href=\"#Using-Python's-Built-In-Counter\" data-toc-modified-id=\"Using-Python's-Built-In-Counter-2.2.4\"><span class=\"toc-item-num\">2.2.4&nbsp;&nbsp;</span>Using Python's Built-In Counter</a></span></li><li><span><a href=\"#In-Class-Question\" data-toc-modified-id=\"In-Class-Question-2.2.5\"><span class=\"toc-item-num\">2.2.5&nbsp;&nbsp;</span>In-Class Question</a></span></li></ul></li><li><span><a href=\"#Zipf's-Law\" data-toc-modified-id=\"Zipf's-Law-2.3\"><span class=\"toc-item-num\">2.3&nbsp;&nbsp;</span>Zipf's Law</a></span><ul class=\"toc-item\"><li><span><a href=\"#General-Definition\" data-toc-modified-id=\"General-Definition-2.3.1\"><span class=\"toc-item-num\">2.3.1&nbsp;&nbsp;</span>General Definition</a></span></li><li><span><a href=\"#Approximation-in-NLP\" data-toc-modified-id=\"Approximation-in-NLP-2.3.2\"><span class=\"toc-item-num\">2.3.2&nbsp;&nbsp;</span>Approximation in NLP</a></span></li><li><span><a href=\"#Zipf-Distributions\" data-toc-modified-id=\"Zipf-Distributions-2.3.3\"><span class=\"toc-item-num\">2.3.3&nbsp;&nbsp;</span>Zipf Distributions</a></span></li></ul></li></ul></li><li><span><a href=\"#Regular-Expressions\" data-toc-modified-id=\"Regular-Expressions-3\"><span class=\"toc-item-num\">3&nbsp;&nbsp;</span>Regular Expressions</a></span><ul class=\"toc-item\"><li><ul class=\"toc-item\"><li><span><a href=\"#Match-the-first-time-a-capital-letter-appears-in-the-tweet\" data-toc-modified-id=\"Match-the-first-time-a-capital-letter-appears-in-the-tweet-3.0.1\"><span class=\"toc-item-num\">3.0.1&nbsp;&nbsp;</span>Match the first time a capital letter appears in the tweet</a></span></li><li><span><a href=\"#Match-all-capital-letters-that-appears-in-the-tweet\" data-toc-modified-id=\"Match-all-capital-letters-that-appears-in-the-tweet-3.0.2\"><span class=\"toc-item-num\">3.0.2&nbsp;&nbsp;</span>Match all capital letters that appears in the tweet</a></span></li><li><span><a href=\"#Match-all-words-that-are-at-least-3-characters-long\" data-toc-modified-id=\"Match-all-words-that-are-at-least-3-characters-long-3.0.3\"><span class=\"toc-item-num\">3.0.3&nbsp;&nbsp;</span>Match all words that are at least 3 characters long</a></span></li><li><span><a href=\"#Word-Boundaries\" data-toc-modified-id=\"Word-Boundaries-3.0.4\"><span class=\"toc-item-num\">3.0.4&nbsp;&nbsp;</span>Word Boundaries</a></span></li><li><span><a href=\"#Removing-Stopwords-Using-Regex\" data-toc-modified-id=\"Removing-Stopwords-Using-Regex-3.0.5\"><span class=\"toc-item-num\">3.0.5&nbsp;&nbsp;</span>Removing Stopwords Using Regex</a></span></li><li><span><a href=\"#Regex-Exercises\" data-toc-modified-id=\"Regex-Exercises-3.0.6\"><span class=\"toc-item-num\">3.0.6&nbsp;&nbsp;</span>Regex Exercises</a></span></li></ul></li></ul></li><li><span><a href=\"#Encoding-Schemes\" data-toc-modified-id=\"Encoding-Schemes-4\"><span class=\"toc-item-num\">4&nbsp;&nbsp;</span>Encoding Schemes</a></span><ul class=\"toc-item\"><li><ul class=\"toc-item\"><li><span><a href=\"#Implications-for-Data-Science\" data-toc-modified-id=\"Implications-for-Data-Science-4.0.1\"><span class=\"toc-item-num\">4.0.1&nbsp;&nbsp;</span>Implications for Data Science</a></span></li></ul></li><li><span><a href=\"#World-Languages,-in-Context\" data-toc-modified-id=\"World-Languages,-in-Context-4.1\"><span class=\"toc-item-num\">4.1&nbsp;&nbsp;</span>World Languages, in Context</a></span></li><li><span><a href=\"#Bits-and-Bytes\" data-toc-modified-id=\"Bits-and-Bytes-4.2\"><span class=\"toc-item-num\">4.2&nbsp;&nbsp;</span>Bits and Bytes</a></span><ul class=\"toc-item\"><li><span><a href=\"#Exercises\" data-toc-modified-id=\"Exercises-4.2.1\"><span class=\"toc-item-num\">4.2.1&nbsp;&nbsp;</span>Exercises</a></span></li></ul></li><li><span><a href=\"#ASCII\" data-toc-modified-id=\"ASCII-4.3\"><span class=\"toc-item-num\">4.3&nbsp;&nbsp;</span>ASCII</a></span><ul class=\"toc-item\"><li><span><a href=\"#Encoding/Decoding-Words\" data-toc-modified-id=\"Encoding/Decoding-Words-4.3.1\"><span class=\"toc-item-num\">4.3.1&nbsp;&nbsp;</span>Encoding/Decoding Words</a></span><ul class=\"toc-item\"><li><span><a href=\"#Steps:\" data-toc-modified-id=\"Steps:-4.3.1.1\"><span class=\"toc-item-num\">4.3.1.1&nbsp;&nbsp;</span>Steps:</a></span></li><li><span><a href=\"#Exercises\" data-toc-modified-id=\"Exercises-4.3.1.2\"><span class=\"toc-item-num\">4.3.1.2&nbsp;&nbsp;</span>Exercises</a></span></li></ul></li><li><span><a href=\"#Python-Code\" data-toc-modified-id=\"Python-Code-4.3.2\"><span class=\"toc-item-num\">4.3.2&nbsp;&nbsp;</span>Python Code</a></span></li><li><span><a href=\"#Extended-ASCII\" data-toc-modified-id=\"Extended-ASCII-4.3.3\"><span class=\"toc-item-num\">4.3.3&nbsp;&nbsp;</span>Extended ASCII</a></span><ul class=\"toc-item\"><li><span><a href=\"#Latin-1\" data-toc-modified-id=\"Latin-1-4.3.3.1\"><span class=\"toc-item-num\">4.3.3.1&nbsp;&nbsp;</span>Latin-1</a></span></li><li><span><a href=\"#Excel-on-Macs\" data-toc-modified-id=\"Excel-on-Macs-4.3.3.2\"><span class=\"toc-item-num\">4.3.3.2&nbsp;&nbsp;</span>Excel on Macs</a></span></li></ul></li><li><span><a href=\"#Turning-Strings-into-Bytes\" data-toc-modified-id=\"Turning-Strings-into-Bytes-4.3.4\"><span class=\"toc-item-num\">4.3.4&nbsp;&nbsp;</span>Turning Strings into Bytes</a></span></li><li><span><a href=\"#Turning-Bytes-into-Strings\" data-toc-modified-id=\"Turning-Bytes-into-Strings-4.3.5\"><span class=\"toc-item-num\">4.3.5&nbsp;&nbsp;</span>Turning Bytes into Strings</a></span><ul class=\"toc-item\"><li><span><a href=\"#Exercises\" data-toc-modified-id=\"Exercises-4.3.5.1\"><span class=\"toc-item-num\">4.3.5.1&nbsp;&nbsp;</span>Exercises</a></span></li></ul></li></ul></li><li><span><a href=\"#Unicode\" data-toc-modified-id=\"Unicode-4.4\"><span class=\"toc-item-num\">4.4&nbsp;&nbsp;</span>Unicode</a></span><ul class=\"toc-item\"><li><span><a href=\"#UTF-8\" data-toc-modified-id=\"UTF-8-4.4.1\"><span class=\"toc-item-num\">4.4.1&nbsp;&nbsp;</span>UTF-8</a></span><ul class=\"toc-item\"><li><span><a href=\"#Getting-the-Codepoint-of-a-Character\" data-toc-modified-id=\"Getting-the-Codepoint-of-a-Character-4.4.1.1\"><span class=\"toc-item-num\">4.4.1.1&nbsp;&nbsp;</span>Getting the Codepoint of a Character</a></span></li><li><span><a href=\"#Getting-the-Character-from-a-Codepoint\" data-toc-modified-id=\"Getting-the-Character-from-a-Codepoint-4.4.1.2\"><span class=\"toc-item-num\">4.4.1.2&nbsp;&nbsp;</span>Getting the Character from a Codepoint</a></span></li></ul></li><li><span><a href=\"#Variable-Length-Encoding-/Digitalization-and-Internationalization\" data-toc-modified-id=\"Variable-Length-Encoding-/Digitalization-and-Internationalization-4.4.2\"><span class=\"toc-item-num\">4.4.2&nbsp;&nbsp;</span>Variable Length Encoding /Digitalization and Internationalization</a></span><ul class=\"toc-item\"><li><span><a href=\"#Data-Science-Implications\" data-toc-modified-id=\"Data-Science-Implications-4.4.2.1\"><span class=\"toc-item-num\">4.4.2.1&nbsp;&nbsp;</span>Data Science Implications</a></span></li></ul></li></ul></li><li><span><a href=\"#Next-Week\" data-toc-modified-id=\"Next-Week-4.5\"><span class=\"toc-item-num\">4.5&nbsp;&nbsp;</span>Next Week</a></span><ul class=\"toc-item\"><li><span><a href=\"#Check-for-Understanding\" data-toc-modified-id=\"Check-for-Understanding-4.5.1\"><span class=\"toc-item-num\">4.5.1&nbsp;&nbsp;</span>Check for Understanding</a></span></li></ul></li></ul></li></ul></div>"
   ]
  },
  {
   "cell_type": "markdown",
   "metadata": {},
   "source": [
    "## Installing Required Libraries"
   ]
  },
  {
   "cell_type": "code",
   "execution_count": 4,
   "metadata": {},
   "outputs": [
    {
     "name": "stdout",
     "output_type": "stream",
     "text": [
      "Requirement already satisfied: matplotlib in /Users/yuchen/miniconda3/lib/python3.8/site-packages (3.3.4)\n",
      "Requirement already satisfied: cycler>=0.10 in /Users/yuchen/miniconda3/lib/python3.8/site-packages (from matplotlib) (0.10.0)\n",
      "Requirement already satisfied: pillow>=6.2.0 in /Users/yuchen/miniconda3/lib/python3.8/site-packages (from matplotlib) (8.1.2)\n",
      "Requirement already satisfied: pyparsing!=2.0.4,!=2.1.2,!=2.1.6,>=2.0.3 in /Users/yuchen/miniconda3/lib/python3.8/site-packages (from matplotlib) (2.4.7)\n",
      "Requirement already satisfied: python-dateutil>=2.1 in /Users/yuchen/miniconda3/lib/python3.8/site-packages (from matplotlib) (2.8.1)\n",
      "Requirement already satisfied: kiwisolver>=1.0.1 in /Users/yuchen/miniconda3/lib/python3.8/site-packages (from matplotlib) (1.3.1)\n",
      "Requirement already satisfied: numpy>=1.15 in /Users/yuchen/miniconda3/lib/python3.8/site-packages (from matplotlib) (1.19.5)\n",
      "Requirement already satisfied: six in /Users/yuchen/miniconda3/lib/python3.8/site-packages (from cycler>=0.10->matplotlib) (1.15.0)\n",
      "\u001b[33mWARNING: You are using pip version 21.3.1; however, version 22.0.4 is available.\n",
      "You should consider upgrading via the '/Users/yuchen/miniconda3/bin/python -m pip install --upgrade pip' command.\u001b[0m\n",
      "Requirement already satisfied: pandas in /Users/yuchen/miniconda3/lib/python3.8/site-packages (1.2.2)\n",
      "Requirement already satisfied: pytz>=2017.3 in /Users/yuchen/miniconda3/lib/python3.8/site-packages (from pandas) (2021.1)\n",
      "Requirement already satisfied: numpy>=1.16.5 in /Users/yuchen/miniconda3/lib/python3.8/site-packages (from pandas) (1.19.5)\n",
      "Requirement already satisfied: python-dateutil>=2.7.3 in /Users/yuchen/miniconda3/lib/python3.8/site-packages (from pandas) (2.8.1)\n",
      "Requirement already satisfied: six>=1.5 in /Users/yuchen/miniconda3/lib/python3.8/site-packages (from python-dateutil>=2.7.3->pandas) (1.15.0)\n",
      "\u001b[33mWARNING: You are using pip version 21.3.1; however, version 22.0.4 is available.\n",
      "You should consider upgrading via the '/Users/yuchen/miniconda3/bin/python -m pip install --upgrade pip' command.\u001b[0m\n"
     ]
    }
   ],
   "source": [
    "!pip3 install matplotlib\n",
    "!pip3 install pandas"
   ]
  },
  {
   "cell_type": "markdown",
   "metadata": {},
   "source": [
    "#### Getting Familiar With Jupyter Notebooks"
   ]
  },
  {
   "cell_type": "markdown",
   "metadata": {},
   "source": [
    "Jupyter keyboard shortcuts:\n",
    "- Press `Esc` to go into **Command Mode**. Your cell should turn from green highlights to blue highlights.\n",
    "- In **Command Mode**, press `M` to go into `Markdown` mode. This turns your cell into Markdown text so you can type text.\n",
    "- Press `Y` to go into `Code` mode. This then allows you to begin typing Python code.\n",
    "- Press `A` to insert a cell above your current cell.\n",
    "- Press `B` to insert a cell below your current cell.\n",
    "- Press `D` twice to delete your current cell.\n",
    "- Press `Shift` + `Enter` to save your cell."
   ]
  },
  {
   "cell_type": "markdown",
   "metadata": {},
   "source": [
    "# Week 1: Basic Python Operations for Working with Text"
   ]
  },
  {
   "cell_type": "markdown",
   "metadata": {},
   "source": [
    "# The Scale of Data in the 21st Century\n",
    "<figure>\n",
    "  <img src=\"https://raw.githubusercontent.com/ychennay/dso-560-nlp-text-analytics/main/images/scale.png\" alt=\"my alt text\"/>\n",
    "    <figcaption><i>ASCII table converting numbers to characters.<b>(Wikipedia)</b></i></figcaption>\n",
    "</figure>"
   ]
  },
  {
   "cell_type": "markdown",
   "metadata": {},
   "source": [
    "## Overview\n",
    "\n",
    "By the end of this week, you should be able to perform the following operations:\n",
    "\n",
    "\n",
    "#### Text Analytics\n",
    "- **load a text file into memory** using Python's built-in streaming libraries\n",
    "- **visualize word count and line length distributions** as histograms using Matplotlib\n",
    "\n",
    "#### Data Engineering\n",
    "- **read strings from a text input/output stream** using `readline()` and `readlines()`\n",
    "- **use both native Python dictionaries and `collections.Counter` objects** to produce word counts for a text corpus\n",
    "- perform basic search/replace operations using **regular expressions**\n",
    "- encode/decode text from bytes to support internationalization and digital-native characters (such as **emojis**).\n",
    "\n",
    "#### Statistics / Machine Learning\n",
    "- **create a word transition matrix using Numpy arrays**, which can be used for probabilistic inference and text generation (we will cover Week 2)\n",
    "\n",
    "\n",
    "## Loading Text into Memory\n",
    "\n",
    "There are a variety of ways to hold data within memory. For text analytics and natural language processing purposes, we'll be most concerned with the following:\n",
    "\n",
    "- **list**\n",
    "- **set**\n",
    "- **dictionary**\n",
    "- **tuple**\n",
    "- **Numpy array**\n",
    "\n",
    "Imagine that we would like to find the most commonly used words in ***A Tale of Two Cities***, by the famed English novelist Charles Dickens, stored in a text file called **`tale-of-two-cities.txt`**, in the same directory as this Jupyter notebook. Later on, we'll use 3rd-party libraries to automate much of the processing, but for now, we'll explore Python's built-in functions for text processing.\n",
    "\n",
    "#### Opening Files"
   ]
  },
  {
   "cell_type": "markdown",
   "metadata": {},
   "source": [
    "The **`open()`** function takes *two* parameters; **filename**, and **mode**. In our case, `mode` is set to `r` for **read**, since we plan to read the file's contents, as opposed to `w` (write), or `a` (append)."
   ]
  },
  {
   "cell_type": "code",
   "execution_count": 1,
   "metadata": {},
   "outputs": [
    {
     "name": "stdout",
     "output_type": "stream",
     "text": [
      "<_io.TextIOWrapper name='../datasets/tale-of-two-cities.txt' mode='r' encoding='UTF-8'>\n"
     ]
    }
   ],
   "source": [
    "# Open Tale of Two Cities\n",
    "text_file = open(\"../datasets/tale-of-two-cities.txt\", \"r\")\n",
    "print(text_file)"
   ]
  },
  {
   "cell_type": "markdown",
   "metadata": {},
   "source": [
    "Typically, a text character is **1 byte** in size. One byte is equal to **8 bits**. This means conceptually, the size of a string should be $N$ bytes, where $N$ is the number of characters. However, you'll see that in Python, the size of a string is larger:"
   ]
  },
  {
   "cell_type": "code",
   "execution_count": 2,
   "metadata": {},
   "outputs": [
    {
     "name": "stdout",
     "output_type": "stream",
     "text": [
      "The size of EMPTY_STRING is 49 bytes.\n",
      "The size of ONE_CHAR_STRING is 50 bytes.\n",
      "The size of TWO_CHAR_STRING is 51 bytes.\n"
     ]
    }
   ],
   "source": [
    "import sys\n",
    "EMPTY_STRING = \"\"\n",
    "ONE_CHAR_STRING = \"a\"\n",
    "TWO_CHAR_STRING = \"ab\"\n",
    "print(f\"The size of EMPTY_STRING is {sys.getsizeof(EMPTY_STRING)} bytes.\")\n",
    "print(f\"The size of ONE_CHAR_STRING is {sys.getsizeof(ONE_CHAR_STRING)} bytes.\")\n",
    "print(f\"The size of TWO_CHAR_STRING is {sys.getsizeof(TWO_CHAR_STRING)} bytes.\")"
   ]
  },
  {
   "cell_type": "markdown",
   "metadata": {},
   "source": [
    "The **`open()`** function returns a **`TextIOWrapper`** object from Python's `io` module, which handles common input/output streaming operations. \n",
    "\n",
    "A **stream** is a potentially infinite sequence of elements (in our case, characters) arriving over time. You'll use streams to model data that is **unbounded** (it's undetermined the volume, the length, and frequency of the data). A stream has a pointer to its current position within the sequence. \n",
    "\n",
    "This object has an extremely helpful **`readline()`** method that reads from a text file until encountering an **`EOF`** marker or a new line symbol."
   ]
  },
  {
   "cell_type": "code",
   "execution_count": 3,
   "metadata": {},
   "outputs": [
    {
     "data": {
      "text/plain": [
       "0"
      ]
     },
     "execution_count": 3,
     "metadata": {},
     "output_type": "execute_result"
    }
   ],
   "source": [
    "text_file.seek(0)"
   ]
  },
  {
   "cell_type": "code",
   "execution_count": 4,
   "metadata": {},
   "outputs": [],
   "source": [
    "for i in range(100):\n",
    "    text_file.readline()"
   ]
  },
  {
   "cell_type": "markdown",
   "metadata": {},
   "source": [
    "You can pass in a parameter to **`readline()`** to control how many bytes of input stream data you'll receive. For instance, **`readline(2)`** returns at most 2 bytes of text input data. You might use this, for instance, if your Python application is reading not from a flat text file, but from a socket, which supplies a continuous stream of data with fixed length (ie., the messages all have the same number of characters).\n",
    "\n",
    "**In-Class Question**: *Assume you just opened the text file with **`open()`**. What output is returned when **`text_file.readline(5)`** is called the **second** time?*\n",
    "- **A)** The entire first line of the novel\n",
    "- **B)** The first 5 characters of the second line\n",
    "- **C)** The entire second line of the novel\n",
    "- **D)** The first 5 characters of the first line\n",
    "- **E)** The 6th-10th characters of the first line"
   ]
  },
  {
   "cell_type": "code",
   "execution_count": 5,
   "metadata": {},
   "outputs": [
    {
     "data": {
      "text/plain": [
       "'come to a stop, besides once drawing the coach across the road, with\\n'"
      ]
     },
     "execution_count": 5,
     "metadata": {},
     "output_type": "execute_result"
    }
   ],
   "source": [
    "text_file.readline()"
   ]
  },
  {
   "cell_type": "code",
   "execution_count": 6,
   "metadata": {},
   "outputs": [
    {
     "name": "stdout",
     "output_type": "stream",
     "text": [
      "Iteration 1:   IT \n",
      "Iteration 2: WAS t\n"
     ]
    }
   ],
   "source": [
    "text_file.seek(0) #reset the stream position to the start of the text file\n",
    "for i in range(2): # repeat the below line twice\n",
    "    print(f\"Iteration {i + 1}: {text_file.readline(5)}\")"
   ]
  },
  {
   "cell_type": "markdown",
   "metadata": {},
   "source": [
    "Each time that you call **`readline()`**, a position marker within **`TextIOWrapper`** is moved forward:\n",
    "<img src=\"https://raw.githubusercontent.com/ychennay/dso-560-nlp-text-analytics/main/images/readline.png\" width=\"500\" height=\"300\" align=\"center\"/>\n",
    "We typically will use **`readlines()`** instead to read text files line by line. This returns a Python **list**:"
   ]
  },
  {
   "cell_type": "code",
   "execution_count": 7,
   "metadata": {},
   "outputs": [],
   "source": [
    "text_file.seek(0) # reset the stream position to the start of the file\n",
    "lines = text_file.readlines() # read all the lines and return a list of strings"
   ]
  },
  {
   "cell_type": "markdown",
   "metadata": {},
   "source": [
    "We see that there are **12870** lines of text in the novel."
   ]
  },
  {
   "cell_type": "code",
   "execution_count": 8,
   "metadata": {},
   "outputs": [
    {
     "name": "stdout",
     "output_type": "stream",
     "text": [
      "There are 12870 lines in the novel.\n"
     ]
    }
   ],
   "source": [
    "print(f\"There are {len(lines)} lines in the novel.\")"
   ]
  },
  {
   "cell_type": "code",
   "execution_count": 9,
   "metadata": {},
   "outputs": [
    {
     "name": "stdout",
     "output_type": "stream",
     "text": [
      "On average, each line has 58.9 characters.\n"
     ]
    }
   ],
   "source": [
    "total_num_chars = 0\n",
    "for line in lines: # iterate through each line\n",
    "    total_num_chars += len(line) # add the number of characters in a line to the total count of characters\n",
    "\n",
    "avg_chars = round(total_num_chars / len(lines),1) # divide total character count by number of lines to get average\n",
    "print(f\"On average, each line has {avg_chars} characters.\")"
   ]
  },
  {
   "cell_type": "code",
   "execution_count": 10,
   "metadata": {},
   "outputs": [],
   "source": [
    "import matplotlib.pyplot as plt # we are importing the pyplot module from matplotlib, and naming it as plt"
   ]
  },
  {
   "cell_type": "markdown",
   "metadata": {},
   "source": [
    "### An Aside: List Comprehension\n",
    "\n",
    "Sometimes, we need to iterate through a list and perform some sort of operation (sum all the elements, or remove a certain character). The traditional way to do this is using a for loop:\n",
    "\n",
    "```Python\n",
    "lengths = [] # declare an empty list\n",
    "for line in lines: # iterate through each line\n",
    "    lengths.append(len(line)) # add the length of each line to the list\n",
    "```\n",
    "\n",
    "A slightly less verbose way, called **list comprehension**, to write this is\n",
    "\n",
    "```Python\n",
    "lengths = [len(line) for line in lines]\n",
    "```\n",
    "\n",
    "List comprehension is **typically slightly faster**, since it avoids the additional `append()` call for each iteration of the for loop. See this example from StackOverflow:\n",
    "\n",
    "```Python\n",
    "def slower(): # using traditional iteration\n",
    "    result = []\n",
    "    for elem in some_iterable:\n",
    "        result.append(elem)\n",
    "    return result\n",
    "```\n",
    "\n",
    "```Python\n",
    "def faster(): # using list comprehension\n",
    "    return [elem for elem in some_iterable]\n",
    "```\n",
    "\n",
    "Within the Python REPL **(read-eval-print-loop)**:\n",
    "\n",
    "```Python\n",
    ">>> some_iterable = range(1000)\n",
    ">>> import timeit\n",
    ">>> timeit.timeit('f()', 'from __main__ import slower as f', number=10000)\n",
    "1.4456570148468018\n",
    ">>> timeit.timeit('f()', 'from __main__ import faster as f', number=10000)\n",
    "0.49323201179504395\n",
    "```"
   ]
  },
  {
   "cell_type": "markdown",
   "metadata": {},
   "source": [
    "### Visualizing Summary Metrics Using Matplotlib"
   ]
  },
  {
   "cell_type": "code",
   "execution_count": 42,
   "metadata": {},
   "outputs": [
    {
     "data": {
      "image/png": "[encoded data removed]",
      "text/plain": [
       "<Figure size 1080x432 with 1 Axes>"
      ]
     },
     "metadata": {
      "needs_background": "light"
     },
     "output_type": "display_data"
    }
   ],
   "source": [
    "NUM_BINS = 30 # increase this number to make the visualization more granular\n",
    "plt.rcParams[\"figure.figsize\"] = (15,6)\n",
    "plt.hist([len(line) for line in lines], bins=NUM_BINS)\n",
    "plt.title(\"Distribution of Line Lengths in Tale of Two Cities\") # give the plot a title\n",
    "plt.xlabel(\"Number of Characters in Line\") # label the X axis\n",
    "plt.ylabel(\"Count of Lines\") # label the Y axis\n",
    "plt.show()"
   ]
  },
  {
   "cell_type": "markdown",
   "metadata": {},
   "source": [
    "What if now we want to visualize how many times each word appears in the entire novel (for now, we won't worry about **stemming / lemmatization** and other preprocessing steps)?\n",
    "\n",
    "### First Method: Create a Dictionary to Store Word Count\n",
    "\n",
    "Dictionaries in Python have **keys** and **values**. The keys must be unique (no duplicate keys). They can be accessed via the **`keys()`** and **`values()`** methods of a dictionary object.\n"
   ]
  },
  {
   "cell_type": "code",
   "execution_count": 11,
   "metadata": {},
   "outputs": [
    {
     "name": "stdout",
     "output_type": "stream",
     "text": [
      "There's an estimated 143345 words in the novel.\n",
      "There's 21683 unique words in the novel.\n"
     ]
    }
   ],
   "source": [
    "words = [] # create a list of all words\n",
    "word_count = {} # create a dictionary to store word counts\n",
    "\n",
    "for line in lines: # for each line in the novel\n",
    "    for word in line.split(\" \"): # for each word in the line\n",
    "        words.append(word.lower()) # add the word to the list of words\n",
    "        \n",
    "        if word not in word_count.keys(): # if the word has not been seen before, add it to the dictionary with initial count of 1\n",
    "            word_count[word] = 1\n",
    "        else:\n",
    "            word_count[word] += 1 # if the word has been seen before, increment its count by 1\n",
    "        \n",
    "print(f\"There's an estimated {len(words)} words in the novel.\")\n",
    "print(f\"There's {len(word_count.keys())} unique words in the novel.\")"
   ]
  },
  {
   "cell_type": "markdown",
   "metadata": {},
   "source": [
    "Let's use Python **`sets`** to check that our dictionary's keys are unique. Remember that a set is a collection of **unique elements**, so calling **`set(words)`** will return only the unique words in our text file."
   ]
  },
  {
   "cell_type": "code",
   "execution_count": 12,
   "metadata": {},
   "outputs": [
    {
     "ename": "AssertionError",
     "evalue": "This error message will be printed if the assertion to the left is not true.",
     "output_type": "error",
     "traceback": [
      "\u001b[0;31m---------------------------------------------------------------------------\u001b[0m",
      "\u001b[0;31mAssertionError\u001b[0m                            Traceback (most recent call last)",
      "\u001b[0;32m/var/folders/lr/7v936_cn425434l_8lls3p4m0000gn/T/ipykernel_94538/2056105476.py\u001b[0m in \u001b[0;36m<module>\u001b[0;34m\u001b[0m\n\u001b[0;32m----> 1\u001b[0;31m \u001b[0;32massert\u001b[0m \u001b[0mlen\u001b[0m\u001b[0;34m(\u001b[0m\u001b[0mword_count\u001b[0m\u001b[0;34m.\u001b[0m\u001b[0mkeys\u001b[0m\u001b[0;34m(\u001b[0m\u001b[0;34m)\u001b[0m\u001b[0;34m)\u001b[0m \u001b[0;34m==\u001b[0m \u001b[0mlen\u001b[0m\u001b[0;34m(\u001b[0m\u001b[0mset\u001b[0m\u001b[0;34m(\u001b[0m\u001b[0mwords\u001b[0m\u001b[0;34m)\u001b[0m\u001b[0;34m)\u001b[0m\u001b[0;34m,\u001b[0m \u001b[0;34m\"This error message will be printed if the assertion to the left is not true.\"\u001b[0m\u001b[0;34m\u001b[0m\u001b[0;34m\u001b[0m\u001b[0m\n\u001b[0m",
      "\u001b[0;31mAssertionError\u001b[0m: This error message will be printed if the assertion to the left is not true."
     ]
    }
   ],
   "source": [
    "assert len(word_count.keys()) == len(set(words)), \"This error message will be printed if the assertion to the left is not true.\""
   ]
  },
  {
   "cell_type": "markdown",
   "metadata": {},
   "source": [
    "### Using Python's Built-In Counter\n",
    "\n",
    "Since the task of building a count using a dictionary is a common operation, Python provides a built-in object called `Counter` that we can use:"
   ]
  },
  {
   "cell_type": "code",
   "execution_count": 13,
   "metadata": {},
   "outputs": [],
   "source": [
    "from collections import Counter\n",
    "\n",
    "def count_words(lines, delimiter=\" \"):\n",
    "    \n",
    "    words = Counter() # instantiate a Counter object called words\n",
    "    for line in lines:\n",
    "        for word in line.split(delimiter):\n",
    "            words[word] += 1 # increment count for word\n",
    "    return words"
   ]
  },
  {
   "cell_type": "code",
   "execution_count": 14,
   "metadata": {},
   "outputs": [],
   "source": [
    "counter = count_words(lines)"
   ]
  },
  {
   "cell_type": "code",
   "execution_count": 15,
   "metadata": {},
   "outputs": [],
   "source": [
    "counts = Counter([\"I\", \"ate\", \"a\", \"chip\", \"chip\", \"chip\"])"
   ]
  },
  {
   "cell_type": "code",
   "execution_count": 16,
   "metadata": {},
   "outputs": [],
   "source": [
    "counts2 = Counter([\"chip\", \"nice\"])"
   ]
  },
  {
   "cell_type": "code",
   "execution_count": 17,
   "metadata": {
    "scrolled": true
   },
   "outputs": [
    {
     "data": {
      "text/plain": [
       "<bound method Counter.most_common of Counter({'chip': 3, 'I': 1, 'ate': 1, 'a': 1})>"
      ]
     },
     "execution_count": 17,
     "metadata": {},
     "output_type": "execute_result"
    }
   ],
   "source": [
    "counts.most_common"
   ]
  },
  {
   "cell_type": "code",
   "execution_count": 18,
   "metadata": {},
   "outputs": [
    {
     "data": {
      "text/plain": [
       "[('', 7027),\n",
       " ('the', 6634),\n",
       " ('and', 4318),\n",
       " ('of', 3623),\n",
       " ('to', 3145),\n",
       " ('a', 2561),\n",
       " ('in', 2212),\n",
       " ('his', 1754),\n",
       " ('that', 1568),\n",
       " ('was', 1558)]"
      ]
     },
     "execution_count": 18,
     "metadata": {},
     "output_type": "execute_result"
    }
   ],
   "source": [
    "counter.most_common(10)"
   ]
  },
  {
   "cell_type": "markdown",
   "metadata": {},
   "source": [
    "A core principle of software engineering and programming is **DRY**: Don't Repeat Yourself. Since we are likely going to be making many histograms throughout this course, it's best that we create a reusable function."
   ]
  },
  {
   "cell_type": "code",
   "execution_count": 19,
   "metadata": {},
   "outputs": [],
   "source": [
    "def make_histogram(values, title=None,xlabel=None,ylabel=None, bins=30, x_size=15, y_size=6):\n",
    "    plt.rcParams[\"figure.figsize\"] = (x_size,y_size)\n",
    "    plt.hist(values, bins=bins)\n",
    "    \n",
    "    if title:\n",
    "        plt.title(title) # give the plot a title\n",
    "        \n",
    "    if xlabel:\n",
    "        plt.xlabel(xlabel) # label the X axis\n",
    "        \n",
    "    if ylabel:\n",
    "        plt.ylabel(ylabel) # label the Y axis\n",
    "        \n",
    "    plt.show() "
   ]
  },
  {
   "cell_type": "code",
   "execution_count": 20,
   "metadata": {},
   "outputs": [
    {
     "data": {
      "image/png": "[encoded data removed]",
      "text/plain": [
       "<Figure size 1080x432 with 1 Axes>"
      ]
     },
     "metadata": {
      "needs_background": "light"
     },
     "output_type": "display_data"
    }
   ],
   "source": [
    "make_histogram(word_count.values(), \n",
    "               title=\"Distribution of Word Count\",\n",
    "               xlabel=\"Number of Times Word Appears\",\n",
    "               ylabel=\"Number of Unique Words\", bins=500)"
   ]
  },
  {
   "cell_type": "markdown",
   "metadata": {},
   "source": [
    "### In-Class Question\n",
    "- Why does this distribution look the way it does? \n",
    "- What additional steps could be taken to make the results more meaningful?"
   ]
  },
  {
   "cell_type": "code",
   "execution_count": 21,
   "metadata": {},
   "outputs": [],
   "source": [
    "import pandas as pd # output the results to a dataframe\n",
    "word_count_df = pd.DataFrame(columns=[\"word\", \"frequency\"]) # create a dataframe with two columns, word and frequency\n"
   ]
  },
  {
   "cell_type": "code",
   "execution_count": 22,
   "metadata": {},
   "outputs": [
    {
     "data": {
      "text/html": [
       "<div>\n",
       "<style scoped>\n",
       "    .dataframe tbody tr th:only-of-type {\n",
       "        vertical-align: middle;\n",
       "    }\n",
       "\n",
       "    .dataframe tbody tr th {\n",
       "        vertical-align: top;\n",
       "    }\n",
       "\n",
       "    .dataframe thead th {\n",
       "        text-align: right;\n",
       "    }\n",
       "</style>\n",
       "<table border=\"1\" class=\"dataframe\">\n",
       "  <thead>\n",
       "    <tr style=\"text-align: right;\">\n",
       "      <th></th>\n",
       "      <th>word</th>\n",
       "      <th>frequency</th>\n",
       "    </tr>\n",
       "  </thead>\n",
       "  <tbody>\n",
       "  </tbody>\n",
       "</table>\n",
       "</div>"
      ],
      "text/plain": [
       "Empty DataFrame\n",
       "Columns: [word, frequency]\n",
       "Index: []"
      ]
     },
     "execution_count": 22,
     "metadata": {},
     "output_type": "execute_result"
    }
   ],
   "source": [
    "word_count_df"
   ]
  },
  {
   "cell_type": "code",
   "execution_count": 23,
   "metadata": {},
   "outputs": [],
   "source": [
    "word_count_df[\"word\"] = list(word_count.keys())\n",
    "word_count_df[\"frequency\"] = list(word_count.values())\n",
    "word_count_df.to_csv(\"dickens_word_count.csv\") # saves to an outputs folder - if you don't have one, Python will throw an error"
   ]
  },
  {
   "cell_type": "code",
   "execution_count": 24,
   "metadata": {},
   "outputs": [
    {
     "data": {
      "text/html": [
       "<div>\n",
       "<style scoped>\n",
       "    .dataframe tbody tr th:only-of-type {\n",
       "        vertical-align: middle;\n",
       "    }\n",
       "\n",
       "    .dataframe tbody tr th {\n",
       "        vertical-align: top;\n",
       "    }\n",
       "\n",
       "    .dataframe thead th {\n",
       "        text-align: right;\n",
       "    }\n",
       "</style>\n",
       "<table border=\"1\" class=\"dataframe\">\n",
       "  <thead>\n",
       "    <tr style=\"text-align: right;\">\n",
       "      <th></th>\n",
       "      <th>word</th>\n",
       "      <th>frequency</th>\n",
       "    </tr>\n",
       "  </thead>\n",
       "  <tbody>\n",
       "    <tr>\n",
       "      <th>0</th>\n",
       "      <td></td>\n",
       "      <td>7027</td>\n",
       "    </tr>\n",
       "    <tr>\n",
       "      <th>3</th>\n",
       "      <td>the</td>\n",
       "      <td>6634</td>\n",
       "    </tr>\n",
       "    <tr>\n",
       "      <th>71</th>\n",
       "      <td>and</td>\n",
       "      <td>4318</td>\n",
       "    </tr>\n",
       "    <tr>\n",
       "      <th>5</th>\n",
       "      <td>of</td>\n",
       "      <td>3623</td>\n",
       "    </tr>\n",
       "    <tr>\n",
       "      <th>35</th>\n",
       "      <td>to</td>\n",
       "      <td>3145</td>\n",
       "    </tr>\n",
       "    <tr>\n",
       "      <th>...</th>\n",
       "      <td>...</td>\n",
       "      <td>...</td>\n",
       "    </tr>\n",
       "    <tr>\n",
       "      <th>12510</th>\n",
       "      <td>testimony.</td>\n",
       "      <td>1</td>\n",
       "    </tr>\n",
       "    <tr>\n",
       "      <th>12511</th>\n",
       "      <td>indicates</td>\n",
       "      <td>1</td>\n",
       "    </tr>\n",
       "    <tr>\n",
       "      <th>12512</th>\n",
       "      <td>finger,</td>\n",
       "      <td>1</td>\n",
       "    </tr>\n",
       "    <tr>\n",
       "      <th>6292</th>\n",
       "      <td>Council.</td>\n",
       "      <td>1</td>\n",
       "    </tr>\n",
       "    <tr>\n",
       "      <th>21682</th>\n",
       "      <td>END-\\n</td>\n",
       "      <td>1</td>\n",
       "    </tr>\n",
       "  </tbody>\n",
       "</table>\n",
       "<p>21683 rows × 2 columns</p>\n",
       "</div>"
      ],
      "text/plain": [
       "             word  frequency\n",
       "0                       7027\n",
       "3             the       6634\n",
       "71            and       4318\n",
       "5              of       3623\n",
       "35             to       3145\n",
       "...           ...        ...\n",
       "12510  testimony.          1\n",
       "12511   indicates          1\n",
       "12512     finger,          1\n",
       "6292     Council.          1\n",
       "21682      END-\\n          1\n",
       "\n",
       "[21683 rows x 2 columns]"
      ]
     },
     "execution_count": 24,
     "metadata": {},
     "output_type": "execute_result"
    }
   ],
   "source": [
    "word_count_df.sort_values(by=\"frequency\", ascending=False)"
   ]
  },
  {
   "cell_type": "markdown",
   "metadata": {},
   "source": [
    "## Zipf's Law\n",
    "\n",
    "### General Definition\n",
    "\n",
    "Zipf's Law states that for `N` words, the `k`th most frequent word will appear with a normalized frequency equal to\n",
    "\n",
    "<figure>\n",
    "  <img src=\"https://raw.githubusercontent.com/ychennay/dso-560-nlp-text-analytics/main/images/zipf.svg\" alt=\"my alt text\"/>\n",
    "</figure>\n",
    "\n",
    "The parameter $s$ is an exponent that defines the behavior of the distribution. Traditionally, in natural language, $s = 1$.\n",
    "\n",
    "<figure>\n",
    "  <img src=\"https://raw.githubusercontent.com/ychennay/dso-560-nlp-text-analytics/main/images/zip_languages.png\" alt=\"my alt text\"/>\n",
    "  <figcaption><i>Stefan Evert, http://zipfr.r-forge.r-project.org/materials/LREC2018/tutorial_lrec2018.handout.pdf</i></figcaption>\n",
    "</figure>\n",
    "\n",
    "\n",
    "### Approximation in NLP\n",
    "\n",
    "If $t_1$ is the most common word in a collection of text, and $t_2$ is the next most common word, then the frequency of the $i$th most common word is proportional to $\\frac{1}{i}$. The approximation we'll use specifically for natural languages is\n",
    "\n",
    "$$\n",
    "f(t_i) = \\frac{0.1}{i^\\alpha}\n",
    "$$\n",
    "\n",
    "$\\alpha = 1$.\n",
    "\n",
    "To represent the frequency of a word in a body of text.\n",
    "\n",
    "In human language, there are **a few high-frequency words and many low-frequency words**. What does this mean in terms of machine learning / data modelling?\n",
    "\n",
    "* In many cases, the high frequency words do not carry much value in terms of predictive power or signal. These are frequently **stopwords** that must be removed / otherwise feature-engineered."
   ]
  },
  {
   "cell_type": "markdown",
   "metadata": {},
   "source": [
    "### Zipf Distributions\n",
    "\n",
    "There is a distribution known as the **Zipf Distribution**, and it even has its own [implementation in Numpy](https://numpy.org/doc/stable/reference/random/generated/numpy.random.zipf.html). In this following example, we generate a random sample of 1000 numbers and plot them:"
   ]
  },
  {
   "cell_type": "code",
   "execution_count": 21,
   "metadata": {},
   "outputs": [
    {
     "data": {
      "image/png": "[encoded data removed]",
      "text/plain": [
       "<Figure size 1080x432 with 1 Axes>"
      ]
     },
     "metadata": {
      "needs_background": "light"
     },
     "output_type": "display_data"
    }
   ],
   "source": [
    "import numpy as np\n",
    "from matplotlib import pyplot as plt\n",
    "a = 2\n",
    "\n",
    "counts = np.random.zipf(a, 1000)\n",
    "count, bins, ignored = plt.hist(counts[counts<100], 100, density=True)"
   ]
  },
  {
   "cell_type": "markdown",
   "metadata": {},
   "source": [
    "# Regular Expressions"
   ]
  },
  {
   "cell_type": "code",
   "execution_count": 70,
   "metadata": {},
   "outputs": [
    {
     "data": {
      "text/html": [
       "<div>\n",
       "<style scoped>\n",
       "    .dataframe tbody tr th:only-of-type {\n",
       "        vertical-align: middle;\n",
       "    }\n",
       "\n",
       "    .dataframe tbody tr th {\n",
       "        vertical-align: top;\n",
       "    }\n",
       "\n",
       "    .dataframe thead th {\n",
       "        text-align: right;\n",
       "    }\n",
       "</style>\n",
       "<table border=\"1\" class=\"dataframe\">\n",
       "  <thead>\n",
       "    <tr style=\"text-align: right;\">\n",
       "      <th></th>\n",
       "      <th>word</th>\n",
       "      <th>frequency</th>\n",
       "    </tr>\n",
       "  </thead>\n",
       "  <tbody>\n",
       "    <tr>\n",
       "      <th>0</th>\n",
       "      <td></td>\n",
       "      <td>7027</td>\n",
       "    </tr>\n",
       "    <tr>\n",
       "      <th>3</th>\n",
       "      <td>the</td>\n",
       "      <td>6634</td>\n",
       "    </tr>\n",
       "    <tr>\n",
       "      <th>71</th>\n",
       "      <td>and</td>\n",
       "      <td>4318</td>\n",
       "    </tr>\n",
       "    <tr>\n",
       "      <th>5</th>\n",
       "      <td>of</td>\n",
       "      <td>3623</td>\n",
       "    </tr>\n",
       "    <tr>\n",
       "      <th>35</th>\n",
       "      <td>to</td>\n",
       "      <td>3145</td>\n",
       "    </tr>\n",
       "    <tr>\n",
       "      <th>66</th>\n",
       "      <td>a</td>\n",
       "      <td>2561</td>\n",
       "    </tr>\n",
       "    <tr>\n",
       "      <th>40</th>\n",
       "      <td>in</td>\n",
       "      <td>2212</td>\n",
       "    </tr>\n",
       "    <tr>\n",
       "      <th>226</th>\n",
       "      <td>his</td>\n",
       "      <td>1754</td>\n",
       "    </tr>\n",
       "    <tr>\n",
       "      <th>48</th>\n",
       "      <td>that</td>\n",
       "      <td>1568</td>\n",
       "    </tr>\n",
       "    <tr>\n",
       "      <th>8</th>\n",
       "      <td>was</td>\n",
       "      <td>1558</td>\n",
       "    </tr>\n",
       "  </tbody>\n",
       "</table>\n",
       "</div>"
      ],
      "text/plain": [
       "     word  frequency\n",
       "0               7027\n",
       "3     the       6634\n",
       "71    and       4318\n",
       "5      of       3623\n",
       "35     to       3145\n",
       "66      a       2561\n",
       "40     in       2212\n",
       "226   his       1754\n",
       "48   that       1568\n",
       "8     was       1558"
      ]
     },
     "execution_count": 70,
     "metadata": {},
     "output_type": "execute_result"
    }
   ],
   "source": [
    "# get the top stopwords\n",
    "word_count_df.sort_values(by=[\"frequency\"], ascending=False).head(10)"
   ]
  },
  {
   "cell_type": "code",
   "execution_count": 25,
   "metadata": {},
   "outputs": [
    {
     "data": {
      "text/html": [
       "<div>\n",
       "<style scoped>\n",
       "    .dataframe tbody tr th:only-of-type {\n",
       "        vertical-align: middle;\n",
       "    }\n",
       "\n",
       "    .dataframe tbody tr th {\n",
       "        vertical-align: top;\n",
       "    }\n",
       "\n",
       "    .dataframe thead th {\n",
       "        text-align: right;\n",
       "    }\n",
       "</style>\n",
       "<table border=\"1\" class=\"dataframe\">\n",
       "  <thead>\n",
       "    <tr style=\"text-align: right;\">\n",
       "      <th></th>\n",
       "      <th>line</th>\n",
       "    </tr>\n",
       "  </thead>\n",
       "  <tbody>\n",
       "    <tr>\n",
       "      <th>0</th>\n",
       "      <td>IT WAS the best of times, it was the worst o...</td>\n",
       "    </tr>\n",
       "    <tr>\n",
       "      <th>1</th>\n",
       "      <td>age of wisdom, it was the age of foolishness, ...</td>\n",
       "    </tr>\n",
       "    <tr>\n",
       "      <th>2</th>\n",
       "      <td>belief, it was the epoch of incredulity, it wa...</td>\n",
       "    </tr>\n",
       "    <tr>\n",
       "      <th>3</th>\n",
       "      <td>it was the season of Darkness, it was the spri...</td>\n",
       "    </tr>\n",
       "    <tr>\n",
       "      <th>4</th>\n",
       "      <td>winter of despair, we had everything before us...</td>\n",
       "    </tr>\n",
       "    <tr>\n",
       "      <th>...</th>\n",
       "      <td>...</td>\n",
       "    </tr>\n",
       "    <tr>\n",
       "      <th>12865</th>\n",
       "      <td>hear him tell the child my story, with a tende...</td>\n",
       "    </tr>\n",
       "    <tr>\n",
       "      <th>12866</th>\n",
       "      <td>\"It is a far, far better thing that I do, th...</td>\n",
       "    </tr>\n",
       "    <tr>\n",
       "      <th>12867</th>\n",
       "      <td>it is a far, far better rest that I go to than...</td>\n",
       "    </tr>\n",
       "    <tr>\n",
       "      <th>12868</th>\n",
       "      <td></td>\n",
       "    </tr>\n",
       "    <tr>\n",
       "      <th>12869</th>\n",
       "      <td>-THE END-</td>\n",
       "    </tr>\n",
       "  </tbody>\n",
       "</table>\n",
       "<p>12870 rows × 1 columns</p>\n",
       "</div>"
      ],
      "text/plain": [
       "                                                    line\n",
       "0        IT WAS the best of times, it was the worst o...\n",
       "1      age of wisdom, it was the age of foolishness, ...\n",
       "2      belief, it was the epoch of incredulity, it wa...\n",
       "3      it was the season of Darkness, it was the spri...\n",
       "4      winter of despair, we had everything before us...\n",
       "...                                                  ...\n",
       "12865  hear him tell the child my story, with a tende...\n",
       "12866    \"It is a far, far better thing that I do, th...\n",
       "12867  it is a far, far better rest that I go to than...\n",
       "12868                                                   \n",
       "12869                                          -THE END-\n",
       "\n",
       "[12870 rows x 1 columns]"
      ]
     },
     "execution_count": 25,
     "metadata": {},
     "output_type": "execute_result"
    }
   ],
   "source": [
    "import re\n",
    "\n",
    "SAMPLE_TWEET = '''\n",
    "#wolfram Alpha SUCKS! Even for researchers the information provided is less than you can get from \n",
    "#google or #wikipedia, totally useless! Avoid Wolfram at all costs, #ScrewWolframProducts\"\n",
    "'''\n",
    "import pandas as pd\n",
    "# create a dataframe version of Dickens' novel\n",
    "dickens_text_df = pd.DataFrame( open(\"../datasets/tale-of-two-cities.txt\", \"r\"), columns=[\"line\"])\n",
    "dickens_text_df[\"line\"] = dickens_text_df[\"line\"].str.replace(\"\\n\", \"\")\n",
    "dickens_text_df"
   ]
  },
  {
   "cell_type": "markdown",
   "metadata": {},
   "source": [
    "### Match the first time a capital letter appears in the tweet"
   ]
  },
  {
   "cell_type": "code",
   "execution_count": 26,
   "metadata": {},
   "outputs": [
    {
     "data": {
      "text/plain": [
       "'\\n#wolfram Alpha SUCKS! Even for researchers the information provided is less than you can get from \\n#google or #wikipedia, totally useless! Avoid Wolfram at all costs, #ScrewWolframProducts\"\\n'"
      ]
     },
     "execution_count": 26,
     "metadata": {},
     "output_type": "execute_result"
    }
   ],
   "source": [
    "SAMPLE_TWEET"
   ]
  },
  {
   "cell_type": "code",
   "execution_count": 27,
   "metadata": {},
   "outputs": [],
   "source": [
    "import re"
   ]
  },
  {
   "cell_type": "code",
   "execution_count": 28,
   "metadata": {},
   "outputs": [
    {
     "data": {
      "text/plain": [
       "False"
      ]
     },
     "execution_count": 28,
     "metadata": {},
     "output_type": "execute_result"
    }
   ],
   "source": [
    "\" wolf \" in \"wolfenburger are cool\""
   ]
  },
  {
   "cell_type": "markdown",
   "metadata": {},
   "source": [
    "### Match all capital letters that appears in the tweet"
   ]
  },
  {
   "cell_type": "code",
   "execution_count": 29,
   "metadata": {},
   "outputs": [
    {
     "data": {
      "text/plain": [
       "['is', '23', 'years', 'old']"
      ]
     },
     "execution_count": 29,
     "metadata": {},
     "output_type": "execute_result"
    }
   ],
   "source": [
    "re.findall(\"(?:[a-z]{2,}|[A-D]{5,}|23)\", \"ABC8DEF is 23 years old\")"
   ]
  },
  {
   "cell_type": "code",
   "execution_count": 30,
   "metadata": {},
   "outputs": [
    {
     "data": {
      "text/plain": [
       "['wolfram',\n",
       " 'Alpha',\n",
       " 'SUCKS',\n",
       " 'Even',\n",
       " 'researchers',\n",
       " 'information',\n",
       " 'provided',\n",
       " 'less',\n",
       " 'than',\n",
       " 'from',\n",
       " 'google',\n",
       " 'wikipedia',\n",
       " 'totally',\n",
       " 'useless',\n",
       " 'Avoid',\n",
       " 'Wolfram',\n",
       " 'costs',\n",
       " 'ScrewWolframProducts']"
      ]
     },
     "execution_count": 30,
     "metadata": {},
     "output_type": "execute_result"
    }
   ],
   "source": [
    "# re\n",
    "re.findall(\"[a-zA-Z]{4,}\", SAMPLE_TWEET)"
   ]
  },
  {
   "cell_type": "code",
   "execution_count": 31,
   "metadata": {},
   "outputs": [
    {
     "data": {
      "text/plain": [
       "<re.Match object; span=(2, 3), match='w'>"
      ]
     },
     "execution_count": 31,
     "metadata": {},
     "output_type": "execute_result"
    }
   ],
   "source": [
    "re.search(r'[a-z]', SAMPLE_TWEET)"
   ]
  },
  {
   "cell_type": "code",
   "execution_count": 32,
   "metadata": {},
   "outputs": [
    {
     "ename": "TypeError",
     "evalue": "sub() missing 2 required positional arguments: 'repl' and 'string'",
     "output_type": "error",
     "traceback": [
      "\u001b[0;31m---------------------------------------------------------------------------\u001b[0m",
      "\u001b[0;31mTypeError\u001b[0m                                 Traceback (most recent call last)",
      "\u001b[0;32m/var/folders/lr/7v936_cn425434l_8lls3p4m0000gn/T/ipykernel_94538/3058385815.py\u001b[0m in \u001b[0;36m<module>\u001b[0;34m\u001b[0m\n\u001b[0;32m----> 1\u001b[0;31m \u001b[0mre\u001b[0m\u001b[0;34m.\u001b[0m\u001b[0msub\u001b[0m\u001b[0;34m(\u001b[0m\u001b[0;34m''\u001b[0m\u001b[0;34m)\u001b[0m\u001b[0;34m\u001b[0m\u001b[0;34m\u001b[0m\u001b[0m\n\u001b[0m",
      "\u001b[0;31mTypeError\u001b[0m: sub() missing 2 required positional arguments: 'repl' and 'string'"
     ]
    }
   ],
   "source": [
    "re.sub('')"
   ]
  },
  {
   "cell_type": "code",
   "execution_count": 33,
   "metadata": {},
   "outputs": [
    {
     "data": {
      "text/plain": [
       "(12870, 1)"
      ]
     },
     "execution_count": 33,
     "metadata": {},
     "output_type": "execute_result"
    }
   ],
   "source": [
    "dickens_text_df.shape"
   ]
  },
  {
   "cell_type": "code",
   "execution_count": 34,
   "metadata": {},
   "outputs": [
    {
     "data": {
      "text/html": [
       "<div>\n",
       "<style scoped>\n",
       "    .dataframe tbody tr th:only-of-type {\n",
       "        vertical-align: middle;\n",
       "    }\n",
       "\n",
       "    .dataframe tbody tr th {\n",
       "        vertical-align: top;\n",
       "    }\n",
       "\n",
       "    .dataframe thead th {\n",
       "        text-align: right;\n",
       "    }\n",
       "</style>\n",
       "<table border=\"1\" class=\"dataframe\">\n",
       "  <thead>\n",
       "    <tr style=\"text-align: right;\">\n",
       "      <th></th>\n",
       "      <th></th>\n",
       "      <th>0</th>\n",
       "    </tr>\n",
       "    <tr>\n",
       "      <th></th>\n",
       "      <th>match</th>\n",
       "      <th></th>\n",
       "    </tr>\n",
       "  </thead>\n",
       "  <tbody>\n",
       "    <tr>\n",
       "      <th>90</th>\n",
       "      <th>0</th>\n",
       "      <td>MAI</td>\n",
       "    </tr>\n",
       "    <tr>\n",
       "      <th>247</th>\n",
       "      <th>0</th>\n",
       "      <td>RECALLE</td>\n",
       "    </tr>\n",
       "    <tr>\n",
       "      <th>248</th>\n",
       "      <th>0</th>\n",
       "      <td>LIF</td>\n",
       "    </tr>\n",
       "    <tr>\n",
       "      <th rowspan=\"2\" valign=\"top\">292</th>\n",
       "      <th>0</th>\n",
       "      <td>NIGH</td>\n",
       "    </tr>\n",
       "    <tr>\n",
       "      <th>1</th>\n",
       "      <td>SHADOW</td>\n",
       "    </tr>\n",
       "    <tr>\n",
       "      <th>...</th>\n",
       "      <th>...</th>\n",
       "      <td>...</td>\n",
       "    </tr>\n",
       "    <tr>\n",
       "      <th rowspan=\"2\" valign=\"top\">12662</th>\n",
       "      <th>0</th>\n",
       "      <td>FOOTSTEP</td>\n",
       "    </tr>\n",
       "    <tr>\n",
       "      <th>1</th>\n",
       "      <td>EVE</td>\n",
       "    </tr>\n",
       "    <tr>\n",
       "      <th rowspan=\"3\" valign=\"top\">12664</th>\n",
       "      <th>0</th>\n",
       "      <td>ALON</td>\n",
       "    </tr>\n",
       "    <tr>\n",
       "      <th>1</th>\n",
       "      <td>PARI</td>\n",
       "    </tr>\n",
       "    <tr>\n",
       "      <th>2</th>\n",
       "      <td>STREET</td>\n",
       "    </tr>\n",
       "  </tbody>\n",
       "</table>\n",
       "<p>178 rows × 1 columns</p>\n",
       "</div>"
      ],
      "text/plain": [
       "                    0\n",
       "      match          \n",
       "90    0           MAI\n",
       "247   0       RECALLE\n",
       "248   0           LIF\n",
       "292   0          NIGH\n",
       "      1        SHADOW\n",
       "...               ...\n",
       "12662 0      FOOTSTEP\n",
       "      1           EVE\n",
       "12664 0          ALON\n",
       "      1          PARI\n",
       "      2        STREET\n",
       "\n",
       "[178 rows x 1 columns]"
      ]
     },
     "execution_count": 34,
     "metadata": {},
     "output_type": "execute_result"
    }
   ],
   "source": [
    "# pandas\n",
    "#match all words with a-z or A-Z with length 3+ and then ends with another \n",
    "# a-z character. But returns only the first part (the capture group) -\n",
    "# it will chop off the last character\n",
    "dickens_text_df[\"line\"].str.extractall(r'([A-Za-z]{3,})[A-Z]')"
   ]
  },
  {
   "cell_type": "markdown",
   "metadata": {},
   "source": [
    "### Match all words that are at least 3 characters long"
   ]
  },
  {
   "cell_type": "code",
   "execution_count": 35,
   "metadata": {},
   "outputs": [],
   "source": [
    "# re\n",
    "results = re.findall(\"[a-zA-Z]{3,}\", SAMPLE_TWEET)[:10] # show only the first 5"
   ]
  },
  {
   "cell_type": "code",
   "execution_count": 36,
   "metadata": {},
   "outputs": [
    {
     "data": {
      "text/plain": [
       "['wolfram',\n",
       " 'Alpha',\n",
       " 'SUCKS',\n",
       " 'Even',\n",
       " 'for',\n",
       " 'researchers',\n",
       " 'the',\n",
       " 'information',\n",
       " 'provided',\n",
       " 'less']"
      ]
     },
     "execution_count": 36,
     "metadata": {},
     "output_type": "execute_result"
    }
   ],
   "source": [
    "results"
   ]
  },
  {
   "cell_type": "code",
   "execution_count": 37,
   "metadata": {},
   "outputs": [
    {
     "data": {
      "text/plain": [
       "'wolfram Alpha SUCKS Even for researchers the information provided less'"
      ]
     },
     "execution_count": 37,
     "metadata": {},
     "output_type": "execute_result"
    }
   ],
   "source": [
    "\" \".join(results)"
   ]
  },
  {
   "cell_type": "code",
   "execution_count": 38,
   "metadata": {},
   "outputs": [
    {
     "data": {
      "text/plain": [
       "'wolfram Alpha SUCKS Even for researchers the information provided less than you can get from google wikipedia totally useless Avoid Wolfram all costs ScrewWolframProducts'"
      ]
     },
     "execution_count": 38,
     "metadata": {},
     "output_type": "execute_result"
    }
   ],
   "source": [
    "\" \".join(re.findall(\"[a-zA-Z]{3,}\", SAMPLE_TWEET))"
   ]
  },
  {
   "cell_type": "code",
   "execution_count": 39,
   "metadata": {},
   "outputs": [
    {
     "data": {
      "text/html": [
       "<div>\n",
       "<style scoped>\n",
       "    .dataframe tbody tr th:only-of-type {\n",
       "        vertical-align: middle;\n",
       "    }\n",
       "\n",
       "    .dataframe tbody tr th {\n",
       "        vertical-align: top;\n",
       "    }\n",
       "\n",
       "    .dataframe thead th {\n",
       "        text-align: right;\n",
       "    }\n",
       "</style>\n",
       "<table border=\"1\" class=\"dataframe\">\n",
       "  <thead>\n",
       "    <tr style=\"text-align: right;\">\n",
       "      <th></th>\n",
       "      <th>line</th>\n",
       "      <th>results</th>\n",
       "    </tr>\n",
       "  </thead>\n",
       "  <tbody>\n",
       "    <tr>\n",
       "      <th>0</th>\n",
       "      <td>IT WAS the best of times, it was the worst o...</td>\n",
       "      <td>WAS</td>\n",
       "    </tr>\n",
       "    <tr>\n",
       "      <th>1</th>\n",
       "      <td>age of wisdom, it was the age of foolishness, ...</td>\n",
       "      <td>age</td>\n",
       "    </tr>\n",
       "    <tr>\n",
       "      <th>2</th>\n",
       "      <td>belief, it was the epoch of incredulity, it wa...</td>\n",
       "      <td>belief</td>\n",
       "    </tr>\n",
       "    <tr>\n",
       "      <th>3</th>\n",
       "      <td>it was the season of Darkness, it was the spri...</td>\n",
       "      <td>was</td>\n",
       "    </tr>\n",
       "    <tr>\n",
       "      <th>4</th>\n",
       "      <td>winter of despair, we had everything before us...</td>\n",
       "      <td>winter</td>\n",
       "    </tr>\n",
       "    <tr>\n",
       "      <th>...</th>\n",
       "      <td>...</td>\n",
       "      <td>...</td>\n",
       "    </tr>\n",
       "    <tr>\n",
       "      <th>12865</th>\n",
       "      <td>hear him tell the child my story, with a tende...</td>\n",
       "      <td>hear</td>\n",
       "    </tr>\n",
       "    <tr>\n",
       "      <th>12866</th>\n",
       "      <td>\"It is a far, far better thing that I do, th...</td>\n",
       "      <td>far</td>\n",
       "    </tr>\n",
       "    <tr>\n",
       "      <th>12867</th>\n",
       "      <td>it is a far, far better rest that I go to than...</td>\n",
       "      <td>far</td>\n",
       "    </tr>\n",
       "    <tr>\n",
       "      <th>12868</th>\n",
       "      <td></td>\n",
       "      <td>NaN</td>\n",
       "    </tr>\n",
       "    <tr>\n",
       "      <th>12869</th>\n",
       "      <td>-THE END-</td>\n",
       "      <td>THE</td>\n",
       "    </tr>\n",
       "  </tbody>\n",
       "</table>\n",
       "<p>12870 rows × 2 columns</p>\n",
       "</div>"
      ],
      "text/plain": [
       "                                                    line results\n",
       "0        IT WAS the best of times, it was the worst o...     WAS\n",
       "1      age of wisdom, it was the age of foolishness, ...     age\n",
       "2      belief, it was the epoch of incredulity, it wa...  belief\n",
       "3      it was the season of Darkness, it was the spri...     was\n",
       "4      winter of despair, we had everything before us...  winter\n",
       "...                                                  ...     ...\n",
       "12865  hear him tell the child my story, with a tende...    hear\n",
       "12866    \"It is a far, far better thing that I do, th...     far\n",
       "12867  it is a far, far better rest that I go to than...     far\n",
       "12868                                                        NaN\n",
       "12869                                          -THE END-     THE\n",
       "\n",
       "[12870 rows x 2 columns]"
      ]
     },
     "execution_count": 39,
     "metadata": {},
     "output_type": "execute_result"
    }
   ],
   "source": [
    "# pandas\n",
    "dickens_text_df[\"results\"] = dickens_text_df[\"line\"].str.extract(r'([a-zA-Z]{3,})')\n",
    "dickens_text_df"
   ]
  },
  {
   "cell_type": "code",
   "execution_count": 40,
   "metadata": {},
   "outputs": [
    {
     "data": {
      "text/html": [
       "<div>\n",
       "<style scoped>\n",
       "    .dataframe tbody tr th:only-of-type {\n",
       "        vertical-align: middle;\n",
       "    }\n",
       "\n",
       "    .dataframe tbody tr th {\n",
       "        vertical-align: top;\n",
       "    }\n",
       "\n",
       "    .dataframe thead th {\n",
       "        text-align: right;\n",
       "    }\n",
       "</style>\n",
       "<table border=\"1\" class=\"dataframe\">\n",
       "  <thead>\n",
       "    <tr style=\"text-align: right;\">\n",
       "      <th></th>\n",
       "      <th>line</th>\n",
       "      <th>results</th>\n",
       "    </tr>\n",
       "  </thead>\n",
       "  <tbody>\n",
       "    <tr>\n",
       "      <th>0</th>\n",
       "      <td>IT WAS the best of times, it was the worst o...</td>\n",
       "      <td>WAS</td>\n",
       "    </tr>\n",
       "    <tr>\n",
       "      <th>1</th>\n",
       "      <td>age of wisdom, it was the age of foolishness, ...</td>\n",
       "      <td>age</td>\n",
       "    </tr>\n",
       "    <tr>\n",
       "      <th>2</th>\n",
       "      <td>belief, it was the epoch of incredulity, it wa...</td>\n",
       "      <td>belief</td>\n",
       "    </tr>\n",
       "    <tr>\n",
       "      <th>3</th>\n",
       "      <td>it was the season of Darkness, it was the spri...</td>\n",
       "      <td>was</td>\n",
       "    </tr>\n",
       "    <tr>\n",
       "      <th>4</th>\n",
       "      <td>winter of despair, we had everything before us...</td>\n",
       "      <td>winter</td>\n",
       "    </tr>\n",
       "    <tr>\n",
       "      <th>...</th>\n",
       "      <td>...</td>\n",
       "      <td>...</td>\n",
       "    </tr>\n",
       "    <tr>\n",
       "      <th>12865</th>\n",
       "      <td>hear him tell the child my story, with a tende...</td>\n",
       "      <td>hear</td>\n",
       "    </tr>\n",
       "    <tr>\n",
       "      <th>12866</th>\n",
       "      <td>\"It is a far, far better thing that I do, th...</td>\n",
       "      <td>far</td>\n",
       "    </tr>\n",
       "    <tr>\n",
       "      <th>12867</th>\n",
       "      <td>it is a far, far better rest that I go to than...</td>\n",
       "      <td>far</td>\n",
       "    </tr>\n",
       "    <tr>\n",
       "      <th>12868</th>\n",
       "      <td></td>\n",
       "      <td>NaN</td>\n",
       "    </tr>\n",
       "    <tr>\n",
       "      <th>12869</th>\n",
       "      <td>-THE END-</td>\n",
       "      <td>THE</td>\n",
       "    </tr>\n",
       "  </tbody>\n",
       "</table>\n",
       "<p>12870 rows × 2 columns</p>\n",
       "</div>"
      ],
      "text/plain": [
       "                                                    line results\n",
       "0        IT WAS the best of times, it was the worst o...     WAS\n",
       "1      age of wisdom, it was the age of foolishness, ...     age\n",
       "2      belief, it was the epoch of incredulity, it wa...  belief\n",
       "3      it was the season of Darkness, it was the spri...     was\n",
       "4      winter of despair, we had everything before us...  winter\n",
       "...                                                  ...     ...\n",
       "12865  hear him tell the child my story, with a tende...    hear\n",
       "12866    \"It is a far, far better thing that I do, th...     far\n",
       "12867  it is a far, far better rest that I go to than...     far\n",
       "12868                                                        NaN\n",
       "12869                                          -THE END-     THE\n",
       "\n",
       "[12870 rows x 2 columns]"
      ]
     },
     "execution_count": 40,
     "metadata": {},
     "output_type": "execute_result"
    }
   ],
   "source": [
    "dickens_text_df[\"results\"] = dickens_text_df[\"line\"].str.extract(r'([a-zA-Z]{3,})')\n",
    "dickens_text_df"
   ]
  },
  {
   "cell_type": "markdown",
   "metadata": {},
   "source": [
    "### Word Boundaries\n",
    "\n",
    "Consider the sentence:\n",
    "\n",
    "> *A thorough examination of the movie shows Thor was a thorn in the side of the villains, both then and now. thor.*\n",
    "\n",
    "What happens if you try to parse out all `Thor` references? What happens if you want to remove `A` or `a`, or `the` to clean up the text?"
   ]
  },
  {
   "cell_type": "code",
   "execution_count": 1,
   "metadata": {},
   "outputs": [],
   "source": [
    "text = \"A thorough examination of the movie shows Thor was a thorn in the side of the villains, both then and now. thor.\"\n"
   ]
  },
  {
   "cell_type": "code",
   "execution_count": 6,
   "metadata": {},
   "outputs": [
    {
     "data": {
      "text/plain": [
       "['Thor', 'thor']"
      ]
     },
     "execution_count": 6,
     "metadata": {},
     "output_type": "execute_result"
    }
   ],
   "source": [
    "re.findall(r'\\b(?:t|T)hor\\b', text)"
   ]
  },
  {
   "cell_type": "code",
   "execution_count": 44,
   "metadata": {},
   "outputs": [],
   "source": [
    "sample_text = \"My son is a kid, I wish had had more sons.\""
   ]
  },
  {
   "cell_type": "code",
   "execution_count": 45,
   "metadata": {},
   "outputs": [
    {
     "data": {
      "text/plain": [
       "['son', 'kid', 'sons']"
      ]
     },
     "execution_count": 45,
     "metadata": {},
     "output_type": "execute_result"
    }
   ],
   "source": [
    "re.findall(r'(kid|sons|son|kids)', sample_text)"
   ]
  },
  {
   "cell_type": "code",
   "execution_count": null,
   "metadata": {},
   "outputs": [],
   "source": [
    "#34&Hello#34&"
   ]
  },
  {
   "cell_type": "code",
   "execution_count": 46,
   "metadata": {},
   "outputs": [
    {
     "data": {
      "text/plain": [
       "['Thor', 'thor']"
      ]
     },
     "execution_count": 46,
     "metadata": {},
     "output_type": "execute_result"
    }
   ],
   "source": [
    "text = \"A thorough examination of the movie shows Thor was a thorn in the side of the villains, both then and now. thor.\"\n",
    "re.findall(r'\\b(thor|Thor)\\b', text) # notice the use of the r string prefix!\n"
   ]
  },
  {
   "cell_type": "code",
   "execution_count": 47,
   "metadata": {},
   "outputs": [
    {
     "data": {
      "text/html": [
       "<div>\n",
       "<style scoped>\n",
       "    .dataframe tbody tr th:only-of-type {\n",
       "        vertical-align: middle;\n",
       "    }\n",
       "\n",
       "    .dataframe tbody tr th {\n",
       "        vertical-align: top;\n",
       "    }\n",
       "\n",
       "    .dataframe thead th {\n",
       "        text-align: right;\n",
       "    }\n",
       "</style>\n",
       "<table border=\"1\" class=\"dataframe\">\n",
       "  <thead>\n",
       "    <tr style=\"text-align: right;\">\n",
       "      <th></th>\n",
       "      <th>line</th>\n",
       "      <th>results</th>\n",
       "    </tr>\n",
       "  </thead>\n",
       "  <tbody>\n",
       "    <tr>\n",
       "      <th>0</th>\n",
       "      <td>IT WAS the best of times, it was the worst o...</td>\n",
       "      <td>[the, the, the]</td>\n",
       "    </tr>\n",
       "    <tr>\n",
       "      <th>1</th>\n",
       "      <td>age of wisdom, it was the age of foolishness, ...</td>\n",
       "      <td>[the, the]</td>\n",
       "    </tr>\n",
       "    <tr>\n",
       "      <th>2</th>\n",
       "      <td>belief, it was the epoch of incredulity, it wa...</td>\n",
       "      <td>[the, the]</td>\n",
       "    </tr>\n",
       "    <tr>\n",
       "      <th>3</th>\n",
       "      <td>it was the season of Darkness, it was the spri...</td>\n",
       "      <td>[the, the, the]</td>\n",
       "    </tr>\n",
       "    <tr>\n",
       "      <th>4</th>\n",
       "      <td>winter of despair, we had everything before us...</td>\n",
       "      <td>[]</td>\n",
       "    </tr>\n",
       "  </tbody>\n",
       "</table>\n",
       "</div>"
      ],
      "text/plain": [
       "                                                line          results\n",
       "0    IT WAS the best of times, it was the worst o...  [the, the, the]\n",
       "1  age of wisdom, it was the age of foolishness, ...       [the, the]\n",
       "2  belief, it was the epoch of incredulity, it wa...       [the, the]\n",
       "3  it was the season of Darkness, it was the spri...  [the, the, the]\n",
       "4  winter of despair, we had everything before us...               []"
      ]
     },
     "execution_count": 47,
     "metadata": {},
     "output_type": "execute_result"
    }
   ],
   "source": [
    "# pandas\n",
    "dickens_text_df[\"results\"] = dickens_text_df[\"line\"].str.findall(r'\\bthe\\b')\n",
    "dickens_text_df.head(5)"
   ]
  },
  {
   "cell_type": "markdown",
   "metadata": {},
   "source": [
    "### Removing Stopwords Using Regex"
   ]
  },
  {
   "cell_type": "code",
   "execution_count": 48,
   "metadata": {},
   "outputs": [
    {
     "data": {
      "text/plain": [
       "'A BOOHOO examination of the movie shows Thor was a thorn in the side of the villains, both then and now. thor.'"
      ]
     },
     "execution_count": 48,
     "metadata": {},
     "output_type": "execute_result"
    }
   ],
   "source": [
    "# re\n",
    "re.sub('thorough', 'BOOHOO', \"A thorough examination of the movie shows Thor was a thorn in the side of the villains, both then and now. thor.\", flags=re.IGNORECASE)\n"
   ]
  },
  {
   "cell_type": "code",
   "execution_count": 51,
   "metadata": {},
   "outputs": [
    {
     "name": "stderr",
     "output_type": "stream",
     "text": [
      "/var/folders/lr/7v936_cn425434l_8lls3p4m0000gn/T/ipykernel_94538/233991410.py:3: FutureWarning: The default value of regex will change from True to False in a future version.\n",
      "  dickens_text_df[\"results\"] = dickens_text_df[\"line\"].str.replace(r'\\bthe\\b', '')\n"
     ]
    },
    {
     "data": {
      "text/html": [
       "<div>\n",
       "<style scoped>\n",
       "    .dataframe tbody tr th:only-of-type {\n",
       "        vertical-align: middle;\n",
       "    }\n",
       "\n",
       "    .dataframe tbody tr th {\n",
       "        vertical-align: top;\n",
       "    }\n",
       "\n",
       "    .dataframe thead th {\n",
       "        text-align: right;\n",
       "    }\n",
       "</style>\n",
       "<table border=\"1\" class=\"dataframe\">\n",
       "  <thead>\n",
       "    <tr style=\"text-align: right;\">\n",
       "      <th></th>\n",
       "      <th>line</th>\n",
       "      <th>results</th>\n",
       "    </tr>\n",
       "  </thead>\n",
       "  <tbody>\n",
       "    <tr>\n",
       "      <th>0</th>\n",
       "      <td>IT WAS the best of times, it was the worst o...</td>\n",
       "      <td>IT WAS  best of times, it was  worst of time...</td>\n",
       "    </tr>\n",
       "    <tr>\n",
       "      <th>1</th>\n",
       "      <td>age of wisdom, it was the age of foolishness, ...</td>\n",
       "      <td>age of wisdom, it was  age of foolishness, it ...</td>\n",
       "    </tr>\n",
       "    <tr>\n",
       "      <th>2</th>\n",
       "      <td>belief, it was the epoch of incredulity, it wa...</td>\n",
       "      <td>belief, it was  epoch of incredulity, it was  ...</td>\n",
       "    </tr>\n",
       "    <tr>\n",
       "      <th>3</th>\n",
       "      <td>it was the season of Darkness, it was the spri...</td>\n",
       "      <td>it was  season of Darkness, it was  spring of ...</td>\n",
       "    </tr>\n",
       "    <tr>\n",
       "      <th>4</th>\n",
       "      <td>winter of despair, we had everything before us...</td>\n",
       "      <td>winter of despair, we had everything before us...</td>\n",
       "    </tr>\n",
       "  </tbody>\n",
       "</table>\n",
       "</div>"
      ],
      "text/plain": [
       "                                                line  \\\n",
       "0    IT WAS the best of times, it was the worst o...   \n",
       "1  age of wisdom, it was the age of foolishness, ...   \n",
       "2  belief, it was the epoch of incredulity, it wa...   \n",
       "3  it was the season of Darkness, it was the spri...   \n",
       "4  winter of despair, we had everything before us...   \n",
       "\n",
       "                                             results  \n",
       "0    IT WAS  best of times, it was  worst of time...  \n",
       "1  age of wisdom, it was  age of foolishness, it ...  \n",
       "2  belief, it was  epoch of incredulity, it was  ...  \n",
       "3  it was  season of Darkness, it was  spring of ...  \n",
       "4  winter of despair, we had everything before us...  "
      ]
     },
     "execution_count": 51,
     "metadata": {},
     "output_type": "execute_result"
    }
   ],
   "source": [
    "# pandas\n",
    "\n",
    "dickens_text_df[\"results\"] = dickens_text_df[\"line\"].str.replace(r'\\bthe\\b', '', case=False)\n",
    "dickens_text_df.head()"
   ]
  },
  {
   "cell_type": "markdown",
   "metadata": {},
   "source": [
    "### Regex Exercises\n",
    "\n",
    "Write the Python code needed in order to answer each of the following questions.\n",
    "\n",
    "1. One of the main characters in **A Tale of Two Cities** is `Sydney Carton`. How many times is the word `Carton` used?\n",
    "2. How many times does the word `the` appear in the novel?\n",
    "3. How many words of 3 or more characters in length appear in all caps in the novel **A Tale of Two Cities**?\n",
    "4. How would you find replace the stopword `the` using regex from `Tale of Two Cities`\n",
    "5. What percentage of lines in Dickens' text contain adverbs? For now, you can classify an adverb as a word that ends in `ly`.\n",
    "6. One many times does Charles Dickens use the pattern `WORD, WORD, and WORD` in this novel (for example `red, bluff, and free`)?\n",
    "\n",
    "7. Open https://regexr.com/. Write a regular expression that parses the phone numbers from the following text:  \n",
    "> *My phone number is 860-941-5955. But you can also call me at my international number, +011-47-324-941-8292*\n",
    "\n",
    "8. Write a regular expression that parses out **all hashtags** used in a tweet:\n",
    "> *people saying #GoT is boring after watching 3 episodes lmao yall are so used to mediocrity and fast paced stories without any depth and complexity in it’s characters so y’all can’t appreciate it’s the #1 show in America, but GoT outsold for a reason #GameOfThrones #LevelUpSon*"
   ]
  },
  {
   "cell_type": "markdown",
   "metadata": {},
   "source": [
    "# Encoding Schemes\n",
    "\n",
    "This is not a computer science class, but in your practical work, you will frequently have to deal with text that is encoded in a variety of styles. Understanding the difference between them is key.\n",
    "\n",
    "### Implications for Data Science\n",
    "\n",
    "Reasons I've encountered in my own work with NLP why it is beneficial to understand text encoding schemes:\n",
    "* If you are not using the right encoding, you cannot perform adequate feature engineering\n",
    "* Some data-scientists have simply \"thrown away\" samples of tweets, social media comments that seem \"mal-formed\" but are actually simply just using a different encoding scheme\n",
    "\n",
    "\n",
    "## World Languages, in Context\n",
    "\n",
    "<figure>\n",
    "  <img src=\"https://raw.githubusercontent.com/ychennay/dso-560-nlp-text-analytics/main/images/most_popular_languages.png\" alt=\"my alt text\"/>\n",
    "</figure>\n",
    "\n",
    "## Bits and Bytes\n",
    "\n",
    "- Computers, at its lowest level, store everything in the form of bits (either a 0 or a 1). The amount of information that can be represented in a computer is determined by the number of bits.\n",
    "\n",
    "<figure>\n",
    "  <img src=\"https://raw.githubusercontent.com/ychennay/dso-560-nlp-text-analytics/main/images/hierarchy.png\" alt=\"my alt text\"/>\n",
    "</figure>\n",
    "\n",
    "For instance, a using only 4 bits, you can store **$2^4$ = 16** different values.\n",
    "<figure>\n",
    "  <img src=\"https://raw.githubusercontent.com/ychennay/dso-560-nlp-text-analytics/main/images/binary.png\" alt=\"my alt text\"/>\n",
    "    <figcaption><i>How <b>$101010$</b> is converted to decimal (human-readable numbers): each of the green numbers is summed up to equal 42.</i></figcaption>\n",
    "</figure>\n",
    "\n",
    "It is not physically efficient for a computer to try to read one bit at a time, so typically data is stored in **8-bit** groups called **bytes**.\n",
    "\n",
    "### Exercises\n",
    "\n",
    "1. How many bits (0s and 1s) does it take to represent **4 different characters**?\n",
    "2. How many bits (0s and 1s does it take to represent **128 different characters**?\n",
    "\n",
    "## ASCII\n",
    "\n",
    "The oldest, yet still relevant encoding style to be aware of is **ASCII**, where computers represent text (**every character on a keyboard**) initially as a number between 0 and 127 (question: how many bits does it take to do this?)\n",
    "\n",
    "<figure>\n",
    "  <img src=\"https://raw.githubusercontent.com/ychennay/dso-560-nlp-text-analytics/main/images/ascii.svg\" alt=\"my alt text\"/>\n",
    "    <figcaption><i>ASCII table converting numbers to characters.<b>(Wikipedia)</b></i></figcaption>\n",
    "</figure>\n",
    "\n",
    "*If the smallest amount of data a computer can realistically read in is a byte (**8-bits**), why is ASCII only **7-bits**?* The last bit was a **parity bit** is used for **error checking** - to ensure that the data wasn't corrected or unintentionally altered.\n",
    "\n",
    "### Encoding/Decoding Words\n",
    "\n",
    "How would you write the word `Data` using ASCII encoding?\n",
    "\n",
    "#### Steps:\n",
    "\n",
    "1. Look up the \"codepoint\" for the first character (`D`).\n",
    "\n",
    "When you look up the character map value for `D`, its corresponding codepoint is `68`. Note that this is a different codepoint than lowercase `d`.\n",
    "\n",
    "2. Write out that number in binary.\n",
    "\n",
    "<figure>\n",
    "  <img src=\"https://raw.githubusercontent.com/ychennay/dso-560-nlp-text-analytics/main/images/empty_binary_workbook.png\" alt=\"my alt text\"/>\n",
    "</figure>\n",
    "\n",
    "<figure>\n",
    "  <img src=\"https://raw.githubusercontent.com/ychennay/dso-560-nlp-text-analytics/main/images/full_binary_workbook.png\" alt=\"my alt text\"/>\n",
    "</figure>\n",
    "\n",
    "The ASCII binary encoding for `D` is `1000100`.\n",
    "\n",
    "3. Repeat for `a`, `t`, and `a`.\n",
    "\n",
    "Use [this website to check your answer](https://www.rapidtables.com/convert/number/ascii-to-binary.html)."
   ]
  },
  {
   "cell_type": "code",
   "execution_count": 52,
   "metadata": {},
   "outputs": [
    {
     "data": {
      "text/plain": [
       "'utf-8'"
      ]
     },
     "execution_count": 52,
     "metadata": {},
     "output_type": "execute_result"
    }
   ],
   "source": [
    "# to find out your computer's default encoding system\n",
    "sys.getdefaultencoding()"
   ]
  },
  {
   "cell_type": "markdown",
   "metadata": {},
   "source": [
    "#### Exercises\n",
    "1. Convert the word `cat` to binary ASCII encoding.\n",
    "2. What word is represented by the following binary encoding? `01100001 01110010 01110100`"
   ]
  },
  {
   "cell_type": "markdown",
   "metadata": {},
   "source": [
    "\n",
    "### Python Code\n",
    "\n",
    "Do not worry about understanding what is happening inside the `get_binary_for_char` and `get_binary` functions. Just know that they take in a string and produce the 0s and 1s that the string is encoded in:"
   ]
  },
  {
   "cell_type": "code",
   "execution_count": 3,
   "metadata": {},
   "outputs": [],
   "source": [
    "import re\n",
    "from typing import List\n",
    "\n",
    "def get_binary_for_char(char: str, encoding=\"utf-8\") -> str:\n",
    "    \"\"\"\n",
    "    Encodes a character using the desired encoding into its corresponding hex, then converts the\n",
    "    hex code into binary, formatted with tab spaces between byte marks.\n",
    "    \"\"\"\n",
    "\n",
    "    hex_code = char.encode(encoding).hex()\n",
    "    code_point = hex(ord(char))[2:].upper()\n",
    "\n",
    "    binary: str = f\"{int(hex_code, 16):08b}\"\n",
    "\n",
    "    byte_list: List[str] = re.findall('[01]{8}', binary)\n",
    "    formatted_binary: str = \"\\t\".join(byte_list)  # for variable length encoding, tab space between byte marks.\n",
    "    print(f\"{char} (U+{code_point.zfill(4)}, hex:{hex_code}) - {encoding}: {formatted_binary}\")\n",
    "    return formatted_binary\n",
    "\n",
    "\n",
    "def get_binary(text: str, encoding=\"utf-8\"):\n",
    "    return \" \".join([get_binary_for_char(char, encoding) for char in text])"
   ]
  },
  {
   "cell_type": "code",
   "execution_count": 55,
   "metadata": {},
   "outputs": [
    {
     "name": "stdout",
     "output_type": "stream",
     "text": [
      "0 (U+0030, hex:30) - utf-8: 00110000\n"
     ]
    },
    {
     "data": {
      "text/plain": [
       "'00110000'"
      ]
     },
     "execution_count": 55,
     "metadata": {},
     "output_type": "execute_result"
    }
   ],
   "source": [
    "# ASCII encoding of \"Data\"\n",
    "\n",
    "get_binary(\"0\")"
   ]
  },
  {
   "cell_type": "markdown",
   "metadata": {},
   "source": [
    "### Extended ASCII\n",
    "\n",
    "The dominant language in earlier eras of computing was English. People began to realize that ASCII was relatively limited, and even other European languages could not be properly supported. At the same time, transmission technology evolved to a standard of reliability such that the parity bit used for checking for errors was no longer needed. \n",
    "\n",
    "As a result, people began using the last (eighth) bit to extend the number of characters represented by ASCII from 128 characters to 256 characters.\n",
    "\n",
    "#### Latin-1\n",
    "\n",
    "Character map [available here](https://www.htmlhelp.com/reference/charset/latin1.gif).\n",
    "\n",
    "Characters such as `Ç` (pronounced `ch` in Turkish, for instance), is represented by the number `199`. The Spanish word `año` (year) includes a character `ñ` that would be represented by the code point `241`.\n",
    "\n",
    "#### Excel on Macs\n",
    "\n",
    "Macs commonly use [Mac OS Roman encoding](https://en.wikipedia.org/wiki/Mac_OS_Roman). "
   ]
  },
  {
   "cell_type": "code",
   "execution_count": 56,
   "metadata": {},
   "outputs": [
    {
     "name": "stdout",
     "output_type": "stream",
     "text": [
      "D (U+0044, hex:44) - latin1: 01000100\n",
      "a (U+0061, hex:61) - latin1: 01100001\n",
      "t (U+0074, hex:74) - latin1: 01110100\n",
      "a (U+0061, hex:61) - latin1: 01100001\n"
     ]
    },
    {
     "data": {
      "text/plain": [
       "'01000100 01100001 01110100 01100001'"
      ]
     },
     "execution_count": 56,
     "metadata": {},
     "output_type": "execute_result"
    }
   ],
   "source": [
    "# latin1 encoding of \"cat\"\n",
    "get_binary(\"Data\", encoding=\"latin1\")\n"
   ]
  },
  {
   "cell_type": "code",
   "execution_count": 57,
   "metadata": {},
   "outputs": [
    {
     "name": "stdout",
     "output_type": "stream",
     "text": [
      "D (U+0044, hex:44) - ascii: 01000100\n",
      "a (U+0061, hex:61) - ascii: 01100001\n",
      "t (U+0074, hex:74) - ascii: 01110100\n",
      "a (U+0061, hex:61) - ascii: 01100001\n"
     ]
    },
    {
     "data": {
      "text/plain": [
       "'01000100 01100001 01110100 01100001'"
      ]
     },
     "execution_count": 57,
     "metadata": {},
     "output_type": "execute_result"
    }
   ],
   "source": [
    "# latin1 encoding of \"cat\"\n",
    "get_binary(\"Data\", encoding=\"ascii\")\n"
   ]
  },
  {
   "cell_type": "code",
   "execution_count": 58,
   "metadata": {},
   "outputs": [
    {
     "name": "stdout",
     "output_type": "stream",
     "text": [
      "2 (U+0032, hex:32) - utf8: 00110010\n"
     ]
    },
    {
     "data": {
      "text/plain": [
       "'00110010'"
      ]
     },
     "execution_count": 58,
     "metadata": {},
     "output_type": "execute_result"
    }
   ],
   "source": [
    "get_binary(\"2\", encoding=\"utf8\")"
   ]
  },
  {
   "cell_type": "code",
   "execution_count": 60,
   "metadata": {},
   "outputs": [
    {
     "data": {
      "text/plain": [
       "89"
      ]
     },
     "execution_count": 60,
     "metadata": {},
     "output_type": "execute_result"
    }
   ],
   "source": [
    "ord(\"Y\")"
   ]
  },
  {
   "cell_type": "code",
   "execution_count": 61,
   "metadata": {},
   "outputs": [
    {
     "name": "stdout",
     "output_type": "stream",
     "text": [
      "😍 (U+1F60D, hex:f09f988d) - utf8: 11110000\t10011111\t10011000\t10001101\n"
     ]
    },
    {
     "data": {
      "text/plain": [
       "'11110000\\t10011111\\t10011000\\t10001101'"
      ]
     },
     "execution_count": 61,
     "metadata": {},
     "output_type": "execute_result"
    }
   ],
   "source": [
    "# encoding Cuántas\n",
    "\n",
    "get_binary(\"😍\", encoding=\"utf8\")"
   ]
  },
  {
   "cell_type": "markdown",
   "metadata": {},
   "source": [
    "In Python, to convert from bytes to strings, you use the `encode()` and `decode()` functions. \n",
    "\n",
    "### Turning Strings into Bytes"
   ]
  },
  {
   "cell_type": "code",
   "execution_count": 62,
   "metadata": {},
   "outputs": [
    {
     "name": "stdout",
     "output_type": "stream",
     "text": [
      "Using latin1 encoding: b'm\\xe1s'\n"
     ]
    },
    {
     "ename": "UnicodeEncodeError",
     "evalue": "'ascii' codec can't encode character '\\xe1' in position 1: ordinal not in range(128)",
     "output_type": "error",
     "traceback": [
      "\u001b[0;31m---------------------------------------------------------------------------\u001b[0m",
      "\u001b[0;31mUnicodeEncodeError\u001b[0m                        Traceback (most recent call last)",
      "\u001b[0;32m/var/folders/lr/7v936_cn425434l_8lls3p4m0000gn/T/ipykernel_94538/1140202552.py\u001b[0m in \u001b[0;36m<module>\u001b[0;34m\u001b[0m\n\u001b[1;32m      1\u001b[0m \u001b[0;31m# Using Python's encode/decode:\u001b[0m\u001b[0;34m\u001b[0m\u001b[0;34m\u001b[0m\u001b[0m\n\u001b[1;32m      2\u001b[0m \u001b[0mprint\u001b[0m\u001b[0;34m(\u001b[0m\u001b[0;34m\"Using latin1 encoding:\"\u001b[0m\u001b[0;34m,\u001b[0m \u001b[0;34m\"más\"\u001b[0m\u001b[0;34m.\u001b[0m\u001b[0mencode\u001b[0m\u001b[0;34m(\u001b[0m\u001b[0mencoding\u001b[0m\u001b[0;34m=\u001b[0m\u001b[0;34m\"latin1\"\u001b[0m\u001b[0;34m)\u001b[0m\u001b[0;34m)\u001b[0m\u001b[0;34m\u001b[0m\u001b[0;34m\u001b[0m\u001b[0m\n\u001b[0;32m----> 3\u001b[0;31m \u001b[0mprint\u001b[0m\u001b[0;34m(\u001b[0m\u001b[0;34m\"Using ASCII encoding:\"\u001b[0m\u001b[0;34m,\u001b[0m \u001b[0;34m\"más\"\u001b[0m\u001b[0;34m.\u001b[0m\u001b[0mencode\u001b[0m\u001b[0;34m(\u001b[0m\u001b[0mencoding\u001b[0m\u001b[0;34m=\u001b[0m\u001b[0;34m\"ascii\"\u001b[0m\u001b[0;34m)\u001b[0m\u001b[0;34m)\u001b[0m\u001b[0;34m\u001b[0m\u001b[0;34m\u001b[0m\u001b[0m\n\u001b[0m",
      "\u001b[0;31mUnicodeEncodeError\u001b[0m: 'ascii' codec can't encode character '\\xe1' in position 1: ordinal not in range(128)"
     ]
    }
   ],
   "source": [
    "# Using Python's encode/decode:\n",
    "print(\"Using latin1 encoding:\", \"más\".encode(encoding=\"latin1\"))\n",
    "print(\"Using ASCII encoding:\", \"más\".encode(encoding=\"ascii\"))"
   ]
  },
  {
   "cell_type": "markdown",
   "metadata": {},
   "source": [
    "### Turning Bytes into Strings"
   ]
  },
  {
   "cell_type": "code",
   "execution_count": 63,
   "metadata": {},
   "outputs": [
    {
     "ename": "FileNotFoundError",
     "evalue": "[Errno 2] No such file or directory: 'test.txt'",
     "output_type": "error",
     "traceback": [
      "\u001b[0;31m---------------------------------------------------------------------------\u001b[0m",
      "\u001b[0;31mFileNotFoundError\u001b[0m                         Traceback (most recent call last)",
      "\u001b[0;32m/var/folders/lr/7v936_cn425434l_8lls3p4m0000gn/T/ipykernel_94538/4084482419.py\u001b[0m in \u001b[0;36m<module>\u001b[0;34m\u001b[0m\n\u001b[0;32m----> 1\u001b[0;31m \u001b[0mfile\u001b[0m \u001b[0;34m=\u001b[0m \u001b[0mopen\u001b[0m\u001b[0;34m(\u001b[0m\u001b[0;34m\"test.txt\"\u001b[0m\u001b[0;34m,\u001b[0m \u001b[0mmode\u001b[0m\u001b[0;34m=\u001b[0m\u001b[0;34m\"rb\"\u001b[0m\u001b[0;34m)\u001b[0m\u001b[0;34m\u001b[0m\u001b[0;34m\u001b[0m\u001b[0m\n\u001b[0m\u001b[1;32m      2\u001b[0m \u001b[0mbytes_from_file\u001b[0m \u001b[0;34m=\u001b[0m \u001b[0mfile\u001b[0m\u001b[0;34m.\u001b[0m\u001b[0mread\u001b[0m\u001b[0;34m(\u001b[0m\u001b[0;34m)\u001b[0m\u001b[0;34m\u001b[0m\u001b[0;34m\u001b[0m\u001b[0m\n\u001b[1;32m      3\u001b[0m \u001b[0mprint\u001b[0m\u001b[0;34m(\u001b[0m\u001b[0mtype\u001b[0m\u001b[0;34m(\u001b[0m\u001b[0mbytes_from_file\u001b[0m\u001b[0;34m)\u001b[0m\u001b[0;34m)\u001b[0m\u001b[0;34m\u001b[0m\u001b[0;34m\u001b[0m\u001b[0m\n\u001b[1;32m      4\u001b[0m \u001b[0mstring_from_file\u001b[0m \u001b[0;34m=\u001b[0m \u001b[0mbytes_from_file\u001b[0m\u001b[0;34m.\u001b[0m\u001b[0mdecode\u001b[0m\u001b[0;34m(\u001b[0m\u001b[0;34m)\u001b[0m\u001b[0;34m\u001b[0m\u001b[0;34m\u001b[0m\u001b[0m\n\u001b[1;32m      5\u001b[0m \u001b[0mprint\u001b[0m\u001b[0;34m(\u001b[0m\u001b[0mtype\u001b[0m\u001b[0;34m(\u001b[0m\u001b[0mstring_from_file\u001b[0m\u001b[0;34m)\u001b[0m\u001b[0;34m)\u001b[0m\u001b[0;34m\u001b[0m\u001b[0;34m\u001b[0m\u001b[0m\n",
      "\u001b[0;31mFileNotFoundError\u001b[0m: [Errno 2] No such file or directory: 'test.txt'"
     ]
    }
   ],
   "source": [
    "file = open(\"test.txt\", mode=\"rb\")\n",
    "bytes_from_file = file.read()\n",
    "print(type(bytes_from_file))\n",
    "string_from_file = bytes_from_file.decode()\n",
    "print(type(string_from_file))"
   ]
  },
  {
   "cell_type": "markdown",
   "metadata": {},
   "source": [
    "#### Exercises\n",
    "\n",
    "1. Encode the word `más` in ASCII.\n",
    "2. Encode the word `más` in `latin1`.\n",
    "3. Decode the binary stream `01100011 01100001 01110100`. Assume that it is using `latin1` encoding."
   ]
  },
  {
   "cell_type": "code",
   "execution_count": 112,
   "metadata": {},
   "outputs": [
    {
     "name": "stdout",
     "output_type": "stream",
     "text": [
      "0x63\n"
     ]
    },
    {
     "data": {
      "text/plain": [
       "'c'"
      ]
     },
     "execution_count": 112,
     "metadata": {},
     "output_type": "execute_result"
    }
   ],
   "source": [
    "# get_binary(\"cat\", \"latin1\")\n",
    "binary_string = \"01100011\"\n",
    "\n",
    "decimal_representation = int(binary_string, 2)\n",
    "hexadecimal_string = hex(decimal_representation)\n",
    "\n",
    "print(hexadecimal_string)\n",
    "b\"\\x63\".decode(\"latin1\")"
   ]
  },
  {
   "cell_type": "markdown",
   "metadata": {},
   "source": [
    "## Unicode\n",
    "\n",
    "128 characters is not enough to represent the characters in other Languages, like **Greek, Turkish, Cyrillic**, etc., or newer social media phenomenons like **emojis**. Unicode stores text as either 8, 16, or 32 bits (1, 2, or 4 bytes). This means there's significantly more characters that can be encoded (approximately 1 billion characters).\n",
    "\n",
    "As a point of reference, there's a total of **50,000** characters in the Chinese language (but only around **15-20,000** that are used commonly).\n",
    "\n",
    "If you don't specify the right encoding to read in text, you'll end up with something like this:\n",
    "<figure>\n",
    "  <img src=\"https://raw.githubusercontent.com/ychennay/dso-560-nlp-text-analytics/main/images/mojibake.png\" alt=\"my alt text\"/>\n",
    "    <figcaption><i>Malformed characters because of incorrect encoding.<b>(Wikipedia)</b></i></figcaption>\n",
    "</figure>\n",
    "\n",
    "### UTF-8\n",
    "\n",
    "The default encoding scheme of the internet today is `UTF-8`.\n",
    "\n",
    "<figure>\n",
    "  <img src=\"https://raw.githubusercontent.com/ychennay/dso-560-nlp-text-analytics/main/images/encoding_shares.svg\" alt=\"my alt text\"/>\n",
    "    <figcaption><i>Share of web pages with different encodings.<b>(Wikipedia)</b></i></figcaption>\n",
    "</figure>\n",
    "\n",
    "There is another encoding schema very similar to `UTF-8` called `UTF-16`. You'll typically find it being used on Windows systems and within Java applications.\n"
   ]
  },
  {
   "cell_type": "markdown",
   "metadata": {},
   "source": [
    "#### Getting the Codepoint of a Character"
   ]
  },
  {
   "cell_type": "code",
   "execution_count": 94,
   "metadata": {},
   "outputs": [
    {
     "data": {
      "text/plain": [
       "128525"
      ]
     },
     "execution_count": 94,
     "metadata": {},
     "output_type": "execute_result"
    }
   ],
   "source": [
    "ord(\"😍\")"
   ]
  },
  {
   "cell_type": "markdown",
   "metadata": {},
   "source": [
    "#### Getting the Character from a Codepoint"
   ]
  },
  {
   "cell_type": "code",
   "execution_count": 95,
   "metadata": {},
   "outputs": [
    {
     "data": {
      "text/plain": [
       "'am'"
      ]
     },
     "execution_count": 95,
     "metadata": {},
     "output_type": "execute_result"
    }
   ],
   "source": [
    "chr(97) + chr(109)"
   ]
  },
  {
   "cell_type": "markdown",
   "metadata": {},
   "source": [
    "\n",
    "### Variable Length Encoding /Digitalization and Internationalization\n",
    "\n",
    "UTF-8 is the default encoding schema of the internet. Whenever you save files to disk, or read files in, your first choice should be to try using UTF-8. UTF-8 is an example of **variable-length encoding**. This means sometimes a character will take 8 bits to encode (represent), sometimes 16 bits, sometimes 24 bits, and sometimes 32 bits.\n",
    "\n",
    "UTF-8 uses **continuation bytes** for any character it needs to represent beyond 1 byte. These bytes always start with `10`.\n",
    "\n",
    "<figure>\n",
    "  <img src=\"https://raw.githubusercontent.com/ychennay/dso-560-nlp-text-analytics/main/images/continuation.png\" alt=\"my alt text\"/>\n",
    "    <figcaption><i>UTF-8 Continuation Bytes</i></figcaption>\n",
    "</figure>\n",
    "\n",
    "On the other hand, another encoding scheme is `UTF-32`- it always takes **32 bits**. \n",
    "\n",
    "#### Data Science Implications\n",
    "UTF-8 should be your default encoding of choice when working with Big Data. Because the # of bits it takes to encode a character changes, it can be more \"storage-efficient\" on disk, and more \"memory-efficient\" when representing this text in memory. \n",
    "\n",
    "Many machine-learning algorithms (like **batch and mini-batch gradient descent**) will perform updates using batches of samples  (if not the entire dataaset). If you choose the wrong encoding, you will not be able to fit as many samples into your batch for training as you'd like - this means your model may require significantly more training time and perform worse."
   ]
  },
  {
   "cell_type": "code",
   "execution_count": null,
   "metadata": {},
   "outputs": [],
   "source": [
    "11100000"
   ]
  },
  {
   "cell_type": "code",
   "execution_count": 9,
   "metadata": {},
   "outputs": [
    {
     "name": "stdout",
     "output_type": "stream",
     "text": [
      "😍 (U+1F60D, hex:f09f988d) - utf8: 11110000\t10011111\t10011000\t10001101\n"
     ]
    },
    {
     "data": {
      "text/plain": [
       "'11110000\\t10011111\\t10011000\\t10001101'"
      ]
     },
     "execution_count": 9,
     "metadata": {},
     "output_type": "execute_result"
    }
   ],
   "source": [
    "get_binary(\"😍\", encoding=\"utf8\")"
   ]
  },
  {
   "cell_type": "code",
   "execution_count": 21,
   "metadata": {
    "scrolled": true
   },
   "outputs": [
    {
     "name": "stdout",
     "output_type": "stream",
     "text": [
      "I (U+0049, hex:49) - utf8: 01001001\n",
      "  (U+0020, hex:20) - utf8: 00100000\n",
      "😍 (U+1F60D, hex:f09f988d) - utf8: 11110000\t10011111\t10011000\t10001101\n",
      "  (U+0020, hex:20) - utf8: 00100000\n",
      "D (U+0044, hex:44) - utf8: 01000100\n",
      "S (U+0053, hex:53) - utf8: 01010011\n",
      "O (U+004F, hex:4f) - utf8: 01001111\n",
      "  (U+0020, hex:20) - utf8: 00100000\n",
      "5 (U+0035, hex:35) - utf8: 00110101\n",
      "9 (U+0039, hex:39) - utf8: 00111001\n",
      "9 (U+0039, hex:39) - utf8: 00111001\n"
     ]
    },
    {
     "data": {
      "text/plain": [
       "'01001001 00100000 11110000\\t10011111\\t10011000\\t10001101 00100000 01000100 01010011 01001111 00100000 00110101 00111001 00111001'"
      ]
     },
     "execution_count": 21,
     "metadata": {},
     "output_type": "execute_result"
    }
   ],
   "source": [
    "#get_binary(\"I 😍 DSO 599\", encoding=\"ascii\")\n",
    "#get_binary(\"I 😍 DSO 599\", encoding=\"latin1\")\n",
    "get_binary(\"I 😍 DSO 599\", encoding=\"utf8\")"
   ]
  },
  {
   "cell_type": "code",
   "execution_count": 8,
   "metadata": {},
   "outputs": [
    {
     "data": {
      "text/plain": [
       "128525"
      ]
     },
     "execution_count": 8,
     "metadata": {},
     "output_type": "execute_result"
    }
   ],
   "source": [
    "ord(\"😍\")"
   ]
  },
  {
   "cell_type": "code",
   "execution_count": 3,
   "metadata": {},
   "outputs": [
    {
     "name": "stdout",
     "output_type": "stream",
     "text": [
      "😍 (U+1F60D, hex:f09f988d) - utf8: 11110000\t10011111\t10011000\t10001101\n"
     ]
    },
    {
     "data": {
      "text/plain": [
       "'11110000\\t10011111\\t10011000\\t10001101'"
      ]
     },
     "execution_count": 3,
     "metadata": {},
     "output_type": "execute_result"
    }
   ],
   "source": []
  },
  {
   "cell_type": "markdown",
   "metadata": {},
   "source": [
    "## Next Week\n",
    "\n",
    "* `scikit-learn`, `nltk`, and `scipy` libraries for NLP (make sure to install each of these libraries\n",
    "* Bayes Rule, Naive Bayes, probability theory for text classification\n",
    "* Similiarity/distance measures\n",
    "* N-Grams\n",
    "* Tokenization, lemmatization, stemming\n",
    "* Basic word vectorization techniques: Count, TF-IDF, One-Hot encoding\n",
    "* Dimensionality Reduction"
   ]
  },
  {
   "cell_type": "markdown",
   "metadata": {},
   "source": [
    "### Check for Understanding\n",
    "\n",
    "1. Which of the encodings (ASCII, UTF-8, latin-1) will be able to encode this text: `사업`\n",
    "2. **True or False**: the word `dog` will have the same binary representation regardless of whether it is `ASCII`, `latin1`, or `utf8`. Explain - why.\n",
    "3. According to the Zipf Law approximation, approximately what frequency (express it has a percent) would the 3rd most popular word in a generic piece of text appear?\n",
    "4. **True or False**: what is considered a stopword changes depending on the business context and dataset you are working with. If true, provide an example. If false, explain why it is false.\n",
    "5. Explain to someone who does not understanding regular expressions what the following pattern is matching for: `b[a-z]+ly`."
   ]
  },
  {
   "cell_type": "code",
   "execution_count": null,
   "metadata": {},
   "outputs": [],
   "source": [
    "\"Hi Professor, how do you select all the burgers when there are some letters are capitalized? Burger, burGers\""
   ]
  },
  {
   "cell_type": "code",
   "execution_count": 134,
   "metadata": {},
   "outputs": [
    {
     "data": {
      "text/plain": [
       "['burger', 'hamburger', 'burgers']"
      ]
     },
     "execution_count": 134,
     "metadata": {},
     "output_type": "execute_result"
    }
   ],
   "source": [
    "re.findall(r'(?:ham)?burgers?', \"I want a burger. I ate a hamburger and a love burgers\", flags=re.IGNORECASE)"
   ]
  },
  {
   "cell_type": "code",
   "execution_count": 132,
   "metadata": {},
   "outputs": [
    {
     "data": {
      "text/plain": [
       "['aunt', 'husbandos', 'wife']"
      ]
     },
     "execution_count": 132,
     "metadata": {},
     "output_type": "execute_result"
    }
   ],
   "source": [
    "re.findall(r\"husband(?:os)?|wife|aunt)\", \"My aunt's husbandos are not happy to have a wife\")"
   ]
  }
 ],
 "metadata": {
  "kernelspec": {
   "display_name": "Python 3 (ipykernel)",
   "language": "python",
   "name": "python3"
  },
  "language_info": {
   "codemirror_mode": {
    "name": "ipython",
    "version": 3
   },
   "file_extension": ".py",
   "mimetype": "text/x-python",
   "name": "python",
   "nbconvert_exporter": "python",
   "pygments_lexer": "ipython3",
   "version": "3.9.7"
  },
  "toc": {
   "base_numbering": 1,
   "nav_menu": {},
   "number_sections": true,
   "sideBar": true,
   "skip_h1_title": false,
   "title_cell": "Table of Contents",
   "title_sidebar": "Contents",
   "toc_cell": true,
   "toc_position": {
    "height": "calc(100% - 180px)",
    "left": "10px",
    "top": "150px",
    "width": "220px"
   },
   "toc_section_display": true,
   "toc_window_display": true
  }
 },
 "nbformat": 4,
 "nbformat_minor": 2
}
