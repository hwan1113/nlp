{
 "cells": [
  {
   "cell_type": "markdown",
   "id": "honest-brighton",
   "metadata": {},
   "source": [
    "# Homework 1 (Due Tuesday, March 22, 2022 at 6:29pm PST)\n",
    "\n",
    "**Rubric**\n",
    "* Identified 4 major themes from the reviews (2pts)\n",
    "* Regex that groups / cleans the reviews is correctly implemented (4pts)\n",
    "* Word count is correctly implemented (2pts)\n",
    "* Analysis of recommendations and pitfalls/limitations are specific enough to be actionable (2pts)\n",
    "* \n",
    "\n",
    "Not actionable recommendation:\n",
    "* *The store managers should consider trying to improve the drive through experience to be more pleasant for customers*\n",
    "\n",
    "More actionable recommendation:\n",
    "* *Drive throughs are mentioned 23% of the time in reviews, and often focus on how slow the service is. We recommend adopting parallel drive through stations for Atlanta and Chicago*\n",
    "\n",
    "You are a business analyst working for McDonalds. First, read through the reviews in `mcdonalds-yelp-negative-reviews.csv` (found in `datasets` folder). \n",
    "\n",
    "1. Identify 4 recurring themes/topics that reviewers are unhappy with. For example, one theme is that users are consistently unhappy with the drive-through experience.\n",
    "\n",
    "2. Next, using regex, group together all occurrences of these phrases. For example, `drive-thru`, `drive through`, `drivethrough` can all be replaced as `_DRIVE_THROUGH_`.\n",
    "\n",
    "3. Perform a word count, both overall, and broken out by city.\n",
    "\n",
    "4. **Provide a few sentences with your findings and business recommendations.** Make any assumptions you'd like. I just want you to get into the habit of \"finishing\" your analysis: to avoid delivering technical numbers to a non-technical manager.\n",
    "\n",
    "Some considerations in your analysis:\n",
    "\n",
    "* Explain what some of **pitfalls/limitations** are of using only a word count analysis to make these inferences. What additional research/steps would you need to do to verify your conclusions?\n",
    "\n",
    "**Submit everything as a new notebook and Slack direct message (group message) to me (Yu Chen) and the TAs (Mengqi Tan and Siyuan Ni) the HW as an attachment.**\n",
    "\n",
    "**NOTE**: Name the notebook `lastname_firstname_HW1.ipynb`.\n",
    "\n",
    "Every day late is -10%."
   ]
  },
  {
   "cell_type": "code",
   "execution_count": null,
   "id": "cordless-mystery",
   "metadata": {},
   "outputs": [],
   "source": []
  }
 ],
 "metadata": {
  "kernelspec": {
   "display_name": "Python 3",
   "language": "python",
   "name": "python3"
  },
  "language_info": {
   "codemirror_mode": {
    "name": "ipython",
    "version": 3
   },
   "file_extension": ".py",
   "mimetype": "text/x-python",
   "name": "python",
   "nbconvert_exporter": "python",
   "pygments_lexer": "ipython3",
   "version": "3.8.5"
  },
  "toc": {
   "base_numbering": 1,
   "nav_menu": {},
   "number_sections": true,
   "sideBar": true,
   "skip_h1_title": false,
   "title_cell": "Table of Contents",
   "title_sidebar": "Contents",
   "toc_cell": false,
   "toc_position": {},
   "toc_section_display": true,
   "toc_window_display": false
  }
 },
 "nbformat": 4,
 "nbformat_minor": 5
}
