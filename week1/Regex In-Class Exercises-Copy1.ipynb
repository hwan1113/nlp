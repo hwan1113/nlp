{
 "cells": [
  {
   "cell_type": "markdown",
   "metadata": {},
   "source": [
    "### Open the File"
   ]
  },
  {
   "cell_type": "code",
   "execution_count": 1,
   "metadata": {},
   "outputs": [],
   "source": [
    "import re\n",
    "text_file = open(\"../datasets/tale-of-two-cities.txt\")\n",
    "text: str = text_file.read()"
   ]
  },
  {
   "cell_type": "markdown",
   "metadata": {},
   "source": [
    "### 1. \n",
    "One of the main characters in A Tale of Two Cities is Sydney Carton. How many times is the word `Carton` used?"
   ]
  },
  {
   "cell_type": "code",
   "execution_count": 2,
   "metadata": {},
   "outputs": [
    {
     "data": {
      "text/plain": [
       "154"
      ]
     },
     "execution_count": 2,
     "metadata": {},
     "output_type": "execute_result"
    }
   ],
   "source": [
    "len(re.findall(r'\\bCarton\\b', text))"
   ]
  },
  {
   "cell_type": "markdown",
   "metadata": {},
   "source": [
    "### 2.\n",
    "How many times does `the` word the appear in the novel?"
   ]
  },
  {
   "cell_type": "code",
   "execution_count": 3,
   "metadata": {},
   "outputs": [
    {
     "data": {
      "text/plain": [
       "7393"
      ]
     },
     "execution_count": 3,
     "metadata": {},
     "output_type": "execute_result"
    }
   ],
   "source": [
    "len(re.findall(r'\\bthe\\b', text))"
   ]
  },
  {
   "cell_type": "markdown",
   "metadata": {},
   "source": [
    "### 3."
   ]
  },
  {
   "cell_type": "markdown",
   "metadata": {},
   "source": [
    "How would you find replace the stopword `the` using regex from Tale of Two Cities?"
   ]
  },
  {
   "cell_type": "code",
   "execution_count": 4,
   "metadata": {},
   "outputs": [],
   "source": [
    "cleaned_text: str = re.sub(r'\\bthe\\b', '', text)"
   ]
  },
  {
   "cell_type": "markdown",
   "metadata": {},
   "source": [
    "### 4.\n",
    "\n",
    "What percentage of lines in Dickens' text contain adverbs? For now, you can classify an adverb as a word that ends in `ly`."
   ]
  },
  {
   "cell_type": "code",
   "execution_count": 55,
   "metadata": {},
   "outputs": [
    {
     "data": {
      "text/plain": [
       "0.1278943278943279"
      ]
     },
     "execution_count": 55,
     "metadata": {},
     "output_type": "execute_result"
    }
   ],
   "source": [
    "# how many lines in novel\n",
    "text_file = open(\"../datasets/tale-of-two-cities.txt\")\n",
    "lines = text_file.readlines()\n",
    "num_lines: int = len(lines)\n",
    "    \n",
    "# how many lines contain adverbs\n",
    "matched_lines = 0\n",
    "for line in lines:\n",
    "    match = re.search(r'[a-zA-Z]+ly', line)\n",
    "    if match:\n",
    "        matched_lines += 1\n",
    "\n",
    "percentage = matched_lines * 1.0 / num_lines\n",
    "percentage"
   ]
  },
  {
   "cell_type": "code",
   "execution_count": 63,
   "metadata": {},
   "outputs": [
    {
     "data": {
      "text/plain": [
       "1646"
      ]
     },
     "execution_count": 63,
     "metadata": {},
     "output_type": "execute_result"
    }
   ],
   "source": [
    "# how many lines in novel\n",
    "text_file = open(\"../datasets/tale-of-two-cities.txt\")\n",
    "lines = text_file.readlines()\n",
    "num_lines: int = len(lines)\n",
    "\n",
    "pattern = r'[a-zA-Z]+ly'\n",
    "\n",
    "results = list(map(lambda line: re.search(r'[a-zA-Z]+ly', line), lines))\n",
    "adverb_lines = list(filter(lambda result: result, results))\n",
    "len(adverb_lines)"
   ]
  },
  {
   "cell_type": "markdown",
   "metadata": {},
   "source": [
    "### 5.\n",
    "How many times does Charles Dickens use the pattern **WORD, WORD, and WORD** in this novel (for example `red, bluff, and free`)?"
   ]
  },
  {
   "cell_type": "code",
   "execution_count": 57,
   "metadata": {},
   "outputs": [
    {
     "data": {
      "text/plain": [
       "78"
      ]
     },
     "execution_count": 57,
     "metadata": {},
     "output_type": "execute_result"
    }
   ],
   "source": [
    "pattern = r'[a-zA-Z]+, [a-zA-Z]+, and [a-zA-Z]+'\n",
    "\n",
    "results = re.findall(pattern, text)\n",
    "len(results)"
   ]
  },
  {
   "cell_type": "code",
   "execution_count": null,
   "metadata": {},
   "outputs": [],
   "source": [
    "re.findall(r'(\\d{1,}\\b[A-Za-z]{1,}\\b[A-Z]{1,})',address)"
   ]
  }
 ],
 "metadata": {
  "kernelspec": {
   "display_name": "Python 3 (ipykernel)",
   "language": "python",
   "name": "python3"
  },
  "language_info": {
   "codemirror_mode": {
    "name": "ipython",
    "version": 3
   },
   "file_extension": ".py",
   "mimetype": "text/x-python",
   "name": "python",
   "nbconvert_exporter": "python",
   "pygments_lexer": "ipython3",
   "version": "3.9.7"
  },
  "toc": {
   "base_numbering": 1,
   "nav_menu": {},
   "number_sections": true,
   "sideBar": true,
   "skip_h1_title": false,
   "title_cell": "Table of Contents",
   "title_sidebar": "Contents",
   "toc_cell": false,
   "toc_position": {},
   "toc_section_display": true,
   "toc_window_display": false
  }
 },
 "nbformat": 4,
 "nbformat_minor": 2
}
