{
 "cells": [
  {
   "cell_type": "markdown",
   "metadata": {},
   "source": [
    "# Dimensionality Reduction\n",
    "\n",
    "## The Problem\n",
    "\n",
    "There is an interesting tradeoff between model performance and a feature's dimensionality ([Link](http://www.visiondummy.com/2014/04/curse-dimensionality-affect-classification/)):\n",
    "![http://www.visiondummy.com/2014/04/curse-dimensionality-affect-classification/](https://raw.githubusercontent.com/ychennay/dso-560-nlp-text-analytics/main/images/dimensionality_vs_performance.png)\n",
    "\n",
    ">*If the amount of available training data is fixed, then overfitting occurs if we keep adding dimensions. On the other hand, if we keep adding dimensions, the amount of **training data needs to grow exponentially fast to maintain the same coverage** and to avoid overfitting* ([Computer Vision for Dummies](http://www.visiondummy.com/2014/04/curse-dimensionality-affect-classification/)).\n",
    "\n",
    "![http://www.visiondummy.com/2014/04/curse-dimensionality-affect-classification/](https://raw.githubusercontent.com/ychennay/dso-560-nlp-text-analytics/main/images/curseofdimensionality.png)\n",
    "\n",
    "### Multi-Collinearity\n",
    "\n",
    "In many cases, there is a high degree of correlation between many of the features in a dataset. For instance, suppose that you use `TfIdfVectorizer(ngrams=(3,3))`. This means to tokenize the text into tri-grams. Then, you'll have extremely high correlation between tokens such as `bought this for`, `this for my`, `for my husband`. \n",
    "\n",
    "\n",
    "## Sparsity\n",
    "\n",
    "- High dimensionality increases the sparsity of your features (**what NLP techniques have we used that illustrate this point?**)\n",
    "- The density of the training samples decreases when dimensionality increases:\n",
    "- Distance measures (Euclidean, for instance) start losing their effectiveness, because there isn't much difference between the max and min distances in higher dimensions.\n",
    "- Many models that rely upon assumptions of Gaussian distributions (like OLS linear regression), Gaussian mixture models, Gaussian processes, etc. become less and less effective since their distributions become flatter and \"fatter tailed\".\n",
    "![http://www.visiondummy.com/2014/04/curse-dimensionality-affect-classification/](../images/distance-asymptote.png)\n",
    "\n",
    "What is the amount of data needed to maintain **20% coverage** of the feature space? For 1 dimension, it is **20% of the entire population's dataset**. For a dimensionality of $D$:\n",
    "\n",
    "$$\n",
    "X^{D} = .20\n",
    "$$\n",
    "$$\n",
    "(X^{D})^{\\frac{1}{D}} = .20^{\\frac{1}{D}}\n",
    "$$\n",
    "$$\n",
    "X = \\sqrt[D]{.20}\n",
    "$$\n",
    "You can approximate this as \n",
    "```python\n",
    "def coverage_requirement(requirement, D):\n",
    "    return requirement ** (1 / D)\n",
    "\n",
    "x = []\n",
    "y = []\n",
    "for d in range(1,20):\n",
    "    y.append(coverage_requirement(0.10, d))\n",
    "    x.append(d)\n",
    "    \n",
    "import matplotlib.pyplot as plt\n",
    "\n",
    "plt.plot(x,y)\n",
    "plt.xlabel(\"Number of Dimensions\")\n",
    "plt.ylabel(\"Appromximate % of Population Dataset\")\n",
    "plt.title(\"% of Dataset Needed to Maintain 10% Coverage of Feature Space\")\n",
    "plt.show()\n",
    "```\n",
    "<img src=\"https://raw.githubusercontent.com/ychennay/dso-560-nlp-text-analytics/main/images/coverage-needed.png\" width=\"500\">"
   ]
  },
  {
   "cell_type": "code",
   "execution_count": 1,
   "metadata": {},
   "outputs": [
    {
     "data": {
      "text/html": [
       "<div>\n",
       "<style scoped>\n",
       "    .dataframe tbody tr th:only-of-type {\n",
       "        vertical-align: middle;\n",
       "    }\n",
       "\n",
       "    .dataframe tbody tr th {\n",
       "        vertical-align: top;\n",
       "    }\n",
       "\n",
       "    .dataframe thead th {\n",
       "        text-align: right;\n",
       "    }\n",
       "</style>\n",
       "<table border=\"1\" class=\"dataframe\">\n",
       "  <thead>\n",
       "    <tr style=\"text-align: right;\">\n",
       "      <th></th>\n",
       "      <th>across the street</th>\n",
       "      <th>and it was</th>\n",
       "      <th>and the food</th>\n",
       "      <th>at the drive</th>\n",
       "      <th>at the window</th>\n",
       "      <th>at this location</th>\n",
       "      <th>back to the</th>\n",
       "      <th>because of the</th>\n",
       "      <th>been to this</th>\n",
       "      <th>behind the counter</th>\n",
       "      <th>...</th>\n",
       "      <th>to this mcdonalds</th>\n",
       "      <th>up my order</th>\n",
       "      <th>up to the</th>\n",
       "      <th>ve been to</th>\n",
       "      <th>ve ever been</th>\n",
       "      <th>vegas this is</th>\n",
       "      <th>went through the</th>\n",
       "      <th>went to the</th>\n",
       "      <th>you have to</th>\n",
       "      <th>you want to</th>\n",
       "    </tr>\n",
       "  </thead>\n",
       "  <tbody>\n",
       "    <tr>\n",
       "      <th>0</th>\n",
       "      <td>0</td>\n",
       "      <td>0</td>\n",
       "      <td>0</td>\n",
       "      <td>0</td>\n",
       "      <td>0</td>\n",
       "      <td>0</td>\n",
       "      <td>0</td>\n",
       "      <td>0</td>\n",
       "      <td>0</td>\n",
       "      <td>0</td>\n",
       "      <td>...</td>\n",
       "      <td>0</td>\n",
       "      <td>0</td>\n",
       "      <td>0</td>\n",
       "      <td>0</td>\n",
       "      <td>0</td>\n",
       "      <td>0</td>\n",
       "      <td>0</td>\n",
       "      <td>0</td>\n",
       "      <td>0</td>\n",
       "      <td>0</td>\n",
       "    </tr>\n",
       "    <tr>\n",
       "      <th>1</th>\n",
       "      <td>0</td>\n",
       "      <td>0</td>\n",
       "      <td>0</td>\n",
       "      <td>0</td>\n",
       "      <td>0</td>\n",
       "      <td>0</td>\n",
       "      <td>0</td>\n",
       "      <td>0</td>\n",
       "      <td>0</td>\n",
       "      <td>0</td>\n",
       "      <td>...</td>\n",
       "      <td>0</td>\n",
       "      <td>0</td>\n",
       "      <td>0</td>\n",
       "      <td>1</td>\n",
       "      <td>1</td>\n",
       "      <td>0</td>\n",
       "      <td>0</td>\n",
       "      <td>0</td>\n",
       "      <td>0</td>\n",
       "      <td>0</td>\n",
       "    </tr>\n",
       "    <tr>\n",
       "      <th>2</th>\n",
       "      <td>0</td>\n",
       "      <td>0</td>\n",
       "      <td>0</td>\n",
       "      <td>0</td>\n",
       "      <td>1</td>\n",
       "      <td>0</td>\n",
       "      <td>0</td>\n",
       "      <td>0</td>\n",
       "      <td>0</td>\n",
       "      <td>0</td>\n",
       "      <td>...</td>\n",
       "      <td>0</td>\n",
       "      <td>0</td>\n",
       "      <td>0</td>\n",
       "      <td>0</td>\n",
       "      <td>0</td>\n",
       "      <td>0</td>\n",
       "      <td>0</td>\n",
       "      <td>0</td>\n",
       "      <td>0</td>\n",
       "      <td>0</td>\n",
       "    </tr>\n",
       "    <tr>\n",
       "      <th>3</th>\n",
       "      <td>0</td>\n",
       "      <td>0</td>\n",
       "      <td>0</td>\n",
       "      <td>0</td>\n",
       "      <td>0</td>\n",
       "      <td>0</td>\n",
       "      <td>0</td>\n",
       "      <td>0</td>\n",
       "      <td>0</td>\n",
       "      <td>0</td>\n",
       "      <td>...</td>\n",
       "      <td>0</td>\n",
       "      <td>0</td>\n",
       "      <td>0</td>\n",
       "      <td>0</td>\n",
       "      <td>0</td>\n",
       "      <td>0</td>\n",
       "      <td>0</td>\n",
       "      <td>0</td>\n",
       "      <td>0</td>\n",
       "      <td>0</td>\n",
       "    </tr>\n",
       "    <tr>\n",
       "      <th>4</th>\n",
       "      <td>0</td>\n",
       "      <td>0</td>\n",
       "      <td>0</td>\n",
       "      <td>0</td>\n",
       "      <td>0</td>\n",
       "      <td>0</td>\n",
       "      <td>0</td>\n",
       "      <td>0</td>\n",
       "      <td>0</td>\n",
       "      <td>0</td>\n",
       "      <td>...</td>\n",
       "      <td>0</td>\n",
       "      <td>0</td>\n",
       "      <td>0</td>\n",
       "      <td>0</td>\n",
       "      <td>0</td>\n",
       "      <td>0</td>\n",
       "      <td>0</td>\n",
       "      <td>0</td>\n",
       "      <td>0</td>\n",
       "      <td>0</td>\n",
       "    </tr>\n",
       "    <tr>\n",
       "      <th>...</th>\n",
       "      <td>...</td>\n",
       "      <td>...</td>\n",
       "      <td>...</td>\n",
       "      <td>...</td>\n",
       "      <td>...</td>\n",
       "      <td>...</td>\n",
       "      <td>...</td>\n",
       "      <td>...</td>\n",
       "      <td>...</td>\n",
       "      <td>...</td>\n",
       "      <td>...</td>\n",
       "      <td>...</td>\n",
       "      <td>...</td>\n",
       "      <td>...</td>\n",
       "      <td>...</td>\n",
       "      <td>...</td>\n",
       "      <td>...</td>\n",
       "      <td>...</td>\n",
       "      <td>...</td>\n",
       "      <td>...</td>\n",
       "      <td>...</td>\n",
       "    </tr>\n",
       "    <tr>\n",
       "      <th>1521</th>\n",
       "      <td>0</td>\n",
       "      <td>0</td>\n",
       "      <td>0</td>\n",
       "      <td>0</td>\n",
       "      <td>0</td>\n",
       "      <td>0</td>\n",
       "      <td>0</td>\n",
       "      <td>0</td>\n",
       "      <td>0</td>\n",
       "      <td>0</td>\n",
       "      <td>...</td>\n",
       "      <td>0</td>\n",
       "      <td>0</td>\n",
       "      <td>0</td>\n",
       "      <td>0</td>\n",
       "      <td>0</td>\n",
       "      <td>0</td>\n",
       "      <td>0</td>\n",
       "      <td>0</td>\n",
       "      <td>0</td>\n",
       "      <td>0</td>\n",
       "    </tr>\n",
       "    <tr>\n",
       "      <th>1522</th>\n",
       "      <td>0</td>\n",
       "      <td>0</td>\n",
       "      <td>0</td>\n",
       "      <td>0</td>\n",
       "      <td>0</td>\n",
       "      <td>0</td>\n",
       "      <td>0</td>\n",
       "      <td>0</td>\n",
       "      <td>0</td>\n",
       "      <td>0</td>\n",
       "      <td>...</td>\n",
       "      <td>0</td>\n",
       "      <td>0</td>\n",
       "      <td>0</td>\n",
       "      <td>0</td>\n",
       "      <td>0</td>\n",
       "      <td>0</td>\n",
       "      <td>0</td>\n",
       "      <td>0</td>\n",
       "      <td>0</td>\n",
       "      <td>0</td>\n",
       "    </tr>\n",
       "    <tr>\n",
       "      <th>1523</th>\n",
       "      <td>0</td>\n",
       "      <td>0</td>\n",
       "      <td>0</td>\n",
       "      <td>0</td>\n",
       "      <td>0</td>\n",
       "      <td>0</td>\n",
       "      <td>0</td>\n",
       "      <td>0</td>\n",
       "      <td>0</td>\n",
       "      <td>0</td>\n",
       "      <td>...</td>\n",
       "      <td>0</td>\n",
       "      <td>0</td>\n",
       "      <td>0</td>\n",
       "      <td>0</td>\n",
       "      <td>0</td>\n",
       "      <td>0</td>\n",
       "      <td>0</td>\n",
       "      <td>0</td>\n",
       "      <td>0</td>\n",
       "      <td>0</td>\n",
       "    </tr>\n",
       "    <tr>\n",
       "      <th>1524</th>\n",
       "      <td>0</td>\n",
       "      <td>0</td>\n",
       "      <td>0</td>\n",
       "      <td>0</td>\n",
       "      <td>0</td>\n",
       "      <td>0</td>\n",
       "      <td>0</td>\n",
       "      <td>0</td>\n",
       "      <td>0</td>\n",
       "      <td>0</td>\n",
       "      <td>...</td>\n",
       "      <td>0</td>\n",
       "      <td>0</td>\n",
       "      <td>0</td>\n",
       "      <td>0</td>\n",
       "      <td>0</td>\n",
       "      <td>0</td>\n",
       "      <td>0</td>\n",
       "      <td>0</td>\n",
       "      <td>0</td>\n",
       "      <td>0</td>\n",
       "    </tr>\n",
       "    <tr>\n",
       "      <th>1525</th>\n",
       "      <td>1</td>\n",
       "      <td>0</td>\n",
       "      <td>0</td>\n",
       "      <td>0</td>\n",
       "      <td>0</td>\n",
       "      <td>0</td>\n",
       "      <td>0</td>\n",
       "      <td>0</td>\n",
       "      <td>0</td>\n",
       "      <td>0</td>\n",
       "      <td>...</td>\n",
       "      <td>0</td>\n",
       "      <td>0</td>\n",
       "      <td>0</td>\n",
       "      <td>0</td>\n",
       "      <td>0</td>\n",
       "      <td>0</td>\n",
       "      <td>0</td>\n",
       "      <td>0</td>\n",
       "      <td>0</td>\n",
       "      <td>0</td>\n",
       "    </tr>\n",
       "  </tbody>\n",
       "</table>\n",
       "<p>1526 rows × 101 columns</p>\n",
       "</div>"
      ],
      "text/plain": [
       "      across the street  and it was  and the food  at the drive  \\\n",
       "0                     0           0             0             0   \n",
       "1                     0           0             0             0   \n",
       "2                     0           0             0             0   \n",
       "3                     0           0             0             0   \n",
       "4                     0           0             0             0   \n",
       "...                 ...         ...           ...           ...   \n",
       "1521                  0           0             0             0   \n",
       "1522                  0           0             0             0   \n",
       "1523                  0           0             0             0   \n",
       "1524                  0           0             0             0   \n",
       "1525                  1           0             0             0   \n",
       "\n",
       "      at the window  at this location  back to the  because of the  \\\n",
       "0                 0                 0            0               0   \n",
       "1                 0                 0            0               0   \n",
       "2                 1                 0            0               0   \n",
       "3                 0                 0            0               0   \n",
       "4                 0                 0            0               0   \n",
       "...             ...               ...          ...             ...   \n",
       "1521              0                 0            0               0   \n",
       "1522              0                 0            0               0   \n",
       "1523              0                 0            0               0   \n",
       "1524              0                 0            0               0   \n",
       "1525              0                 0            0               0   \n",
       "\n",
       "      been to this  behind the counter  ...  to this mcdonalds  up my order  \\\n",
       "0                0                   0  ...                  0            0   \n",
       "1                0                   0  ...                  0            0   \n",
       "2                0                   0  ...                  0            0   \n",
       "3                0                   0  ...                  0            0   \n",
       "4                0                   0  ...                  0            0   \n",
       "...            ...                 ...  ...                ...          ...   \n",
       "1521             0                   0  ...                  0            0   \n",
       "1522             0                   0  ...                  0            0   \n",
       "1523             0                   0  ...                  0            0   \n",
       "1524             0                   0  ...                  0            0   \n",
       "1525             0                   0  ...                  0            0   \n",
       "\n",
       "      up to the  ve been to  ve ever been  vegas this is  went through the  \\\n",
       "0             0           0             0              0                 0   \n",
       "1             0           1             1              0                 0   \n",
       "2             0           0             0              0                 0   \n",
       "3             0           0             0              0                 0   \n",
       "4             0           0             0              0                 0   \n",
       "...         ...         ...           ...            ...               ...   \n",
       "1521          0           0             0              0                 0   \n",
       "1522          0           0             0              0                 0   \n",
       "1523          0           0             0              0                 0   \n",
       "1524          0           0             0              0                 0   \n",
       "1525          0           0             0              0                 0   \n",
       "\n",
       "      went to the  you have to  you want to  \n",
       "0               0            0            0  \n",
       "1               0            0            0  \n",
       "2               0            0            0  \n",
       "3               0            0            0  \n",
       "4               0            0            0  \n",
       "...           ...          ...          ...  \n",
       "1521            0            0            0  \n",
       "1522            0            0            0  \n",
       "1523            0            0            0  \n",
       "1524            0            0            0  \n",
       "1525            0            0            0  \n",
       "\n",
       "[1526 rows x 101 columns]"
      ]
     },
     "execution_count": 1,
     "metadata": {},
     "output_type": "execute_result"
    }
   ],
   "source": [
    "import pandas as pd\n",
    "from sklearn.feature_extraction.text import CountVectorizer\n",
    "#reviews = pd.read_csv(\"mcdonalds-yelp-negative-reviews.csv\", encoding='latin-1')\n",
    "reviews = open(\"../datasets/mcdonalds-yelp-negative-reviews.csv\", encoding='latin-1')\n",
    "\n",
    "#text = reviews[\"review\"].values\n",
    "text = reviews.readlines()\n",
    "\n",
    "\n",
    "vectorizer = CountVectorizer(ngram_range=(3,3), min_df=0.01, max_df=0.75, max_features=200)\n",
    "# tokenize and build vocab\n",
    "vectorizer.fit(text)\n",
    "vector = vectorizer.transform(text)\n",
    "features = vector.toarray()\n",
    "features_df = pd.DataFrame(features, columns=vectorizer.get_feature_names())\n",
    "features_df"
   ]
  },
  {
   "cell_type": "code",
   "execution_count": 2,
   "metadata": {},
   "outputs": [
    {
     "data": {
      "text/html": [
       "<div>\n",
       "<style scoped>\n",
       "    .dataframe tbody tr th:only-of-type {\n",
       "        vertical-align: middle;\n",
       "    }\n",
       "\n",
       "    .dataframe tbody tr th {\n",
       "        vertical-align: top;\n",
       "    }\n",
       "\n",
       "    .dataframe thead th {\n",
       "        text-align: right;\n",
       "    }\n",
       "</style>\n",
       "<table border=\"1\" class=\"dataframe\">\n",
       "  <thead>\n",
       "    <tr style=\"text-align: right;\">\n",
       "      <th></th>\n",
       "      <th>Tri-Gram 1</th>\n",
       "      <th>Tri-Gram 2</th>\n",
       "      <th>Correlation</th>\n",
       "    </tr>\n",
       "  </thead>\n",
       "  <tbody>\n",
       "    <tr>\n",
       "      <th>1848</th>\n",
       "      <td>front of me</td>\n",
       "      <td>in front of</td>\n",
       "      <td>0.782169</td>\n",
       "    </tr>\n",
       "    <tr>\n",
       "      <th>3048</th>\n",
       "      <td>in front of</td>\n",
       "      <td>front of me</td>\n",
       "      <td>0.782169</td>\n",
       "    </tr>\n",
       "    <tr>\n",
       "      <th>8581</th>\n",
       "      <td>through the drive</td>\n",
       "      <td>went through the</td>\n",
       "      <td>0.761323</td>\n",
       "    </tr>\n",
       "    <tr>\n",
       "      <th>9881</th>\n",
       "      <td>went through the</td>\n",
       "      <td>through the drive</td>\n",
       "      <td>0.761323</td>\n",
       "    </tr>\n",
       "    <tr>\n",
       "      <th>4798</th>\n",
       "      <td>my way to</td>\n",
       "      <td>on my way</td>\n",
       "      <td>0.740935</td>\n",
       "    </tr>\n",
       "  </tbody>\n",
       "</table>\n",
       "</div>"
      ],
      "text/plain": [
       "             Tri-Gram 1         Tri-Gram 2  Correlation\n",
       "1848        front of me        in front of     0.782169\n",
       "3048        in front of        front of me     0.782169\n",
       "8581  through the drive   went through the     0.761323\n",
       "9881   went through the  through the drive     0.761323\n",
       "4798          my way to          on my way     0.740935"
      ]
     },
     "execution_count": 2,
     "metadata": {},
     "output_type": "execute_result"
    }
   ],
   "source": [
    "correlations = features_df.corr()\n",
    "correlations_stacked = correlations.stack().reset_index()\n",
    "#set column names\n",
    "correlations_stacked.columns = ['Tri-Gram 1','Tri-Gram 2','Correlation']\n",
    "correlations_stacked = correlations_stacked[correlations_stacked[\"Correlation\"] < 1]\n",
    "correlations_stacked = correlations_stacked.sort_values(by=['Correlation'], ascending=False)\n",
    "correlations_stacked.head()"
   ]
  },
  {
   "cell_type": "code",
   "execution_count": null,
   "metadata": {},
   "outputs": [],
   "source": [
    "!pip install seaborn"
   ]
  },
  {
   "cell_type": "code",
   "execution_count": 3,
   "metadata": {},
   "outputs": [
    {
     "data": {
      "text/plain": [
       "<AxesSubplot:>"
      ]
     },
     "execution_count": 3,
     "metadata": {},
     "output_type": "execute_result"
    },
    {
     "data": {
      "image/png": "[encoded data removed]",
      "text/plain": [
       "<Figure size 1080x1080 with 2 Axes>"
      ]
     },
     "metadata": {
      "needs_background": "light"
     },
     "output_type": "display_data"
    }
   ],
   "source": [
    "import seaborn as sns\n",
    "import matplotlib.pyplot as plt\n",
    "plt.rcParams[\"figure.figsize\"] = (15,15)\n",
    "sns.heatmap(correlations)"
   ]
  },
  {
   "cell_type": "markdown",
   "metadata": {},
   "source": [
    "# Principle Component Analysis\n",
    "\n",
    "If you have an original matrix $Z$, you can decompose this matrix into two smaller matrices $X$ and $Q$. \n",
    "\n",
    "## Important Points:\n",
    "\n",
    "- Multiplying a vector by a matrix typically changes the direction of the vector. For instance:\n",
    "<figure>\n",
    "  <img src=\"https://raw.githubusercontent.com/ychennay/dso-560-nlp-text-analytics/main/images/multvector.png\" alt=\"my alt text\"/>\n",
    "    <figcaption><a href=\"https://lazyprogrammer.me/tutorial-principal-components-analysis-pca\">Lazy Programmer- \n",
    "        Tutorial to PCA</a></figcaption>\n",
    "</figure>"
   ]
  },
  {
   "cell_type": "markdown",
   "metadata": {},
   "source": [
    "However, there are eigenvalues λ and eigenvectors $v$ such that\n",
    "\n",
    "$$\n",
    "\\sum{X}v = \\lambda v\n",
    "$$\n",
    "\n",
    "Multiplying the eigenvectors $v$ with the eigenvalue $\\lambda$ does not change the direction of the eigenvector.\n",
    "\n",
    "Multiplying the eigenvector $v$ by the covariance matrix $\\sum{X}$ also does not change the direction of the eigenvector.\n",
    "\n",
    "If our data $X$ is of shape $N \\times D$, it turns out that we have $D$ eigenvalues and $D$ eigenvectors. This means we can arrange the eigenvalues $\\lambda$ in decreasing order so that\n",
    "\n",
    "$$\n",
    "\\lambda_3 > \\lambda_2 > \\lambda_5\n",
    "$$\n",
    "\n",
    "In this case, $\\lambda_3$ is the largest eigenvalue, followed by $\\lambda_2$, and then $\\lambda_5$. Then, we can arrange \n",
    "\n",
    "We can also rearrange the eigenvectors the same: $v_3$ will be the first column, $v_2$ will be the second column, and $v_5$ will be the third column.\n",
    "\n",
    "We'll end up with two matrices $V$ and $\\Lambda$:\n",
    "<figure>\n",
    "  <img src=\"https://raw.githubusercontent.com/ychennay/dso-560-nlp-text-analytics/main/images/pca1.png\" alt=\"my alt text\"/>\n",
    "    <figcaption><a href=\"https://lazyprogrammer.me/tutorial-principal-components-analysis-pca\">Lazy Programmer- \n",
    "        Tutorial to PCA</a></figcaption>\n",
    "</figure>"
   ]
  },
  {
   "cell_type": "code",
   "execution_count": 4,
   "metadata": {},
   "outputs": [
    {
     "data": {
      "text/plain": [
       "(1526, 101)"
      ]
     },
     "execution_count": 4,
     "metadata": {},
     "output_type": "execute_result"
    }
   ],
   "source": [
    "# what is the shape of our features?\n",
    "features.shape"
   ]
  },
  {
   "cell_type": "code",
   "execution_count": 5,
   "metadata": {},
   "outputs": [
    {
     "data": {
      "text/plain": [
       "array([[-0.22699845, -0.08993851, -0.01201339, -0.10448157],\n",
       "       [-0.19585315, -0.07017382, -0.07506623,  0.17055102],\n",
       "       [-0.14766955,  0.7348217 , -0.38744576, -0.20721719],\n",
       "       ...,\n",
       "       [-0.20875387, -0.00481379, -0.08669754, -0.10797567],\n",
       "       [-0.19224788, -0.03894087,  0.07699922,  0.01769786],\n",
       "       [-0.22641543, -0.09130775, -0.0243303 , -0.06422241]])"
      ]
     },
     "execution_count": 5,
     "metadata": {},
     "output_type": "execute_result"
    }
   ],
   "source": [
    "from sklearn.decomposition import PCA\n",
    "\n",
    "pca = PCA(n_components=4)\n",
    "\n",
    "Z = pca.fit_transform(features)\n",
    "\n",
    "# what is the shape of Z?\n",
    "Z"
   ]
  },
  {
   "cell_type": "code",
   "execution_count": 6,
   "metadata": {},
   "outputs": [
    {
     "data": {
      "text/plain": [
       "(1526, 4)"
      ]
     },
     "execution_count": 6,
     "metadata": {},
     "output_type": "execute_result"
    }
   ],
   "source": [
    "Z.shape"
   ]
  },
  {
   "cell_type": "code",
   "execution_count": 7,
   "metadata": {},
   "outputs": [
    {
     "data": {
      "text/plain": [
       "<AxesSubplot:>"
      ]
     },
     "execution_count": 7,
     "metadata": {},
     "output_type": "execute_result"
    },
    {
     "data": {
      "image/png": "[encoded data removed]",
      "text/plain": [
       "<Figure size 360x360 with 2 Axes>"
      ]
     },
     "metadata": {
      "needs_background": "light"
     },
     "output_type": "display_data"
    }
   ],
   "source": [
    "# what will happen if we take the correlation matrix and covariance matrix of our new reduced features?\n",
    "import seaborn as sns\n",
    "import numpy as np\n",
    "import matplotlib.pyplot as plt\n",
    "covariances = pd.DataFrame(np.cov(Z.transpose()))\n",
    "plt.rcParams[\"figure.figsize\"] = (5,5)\n",
    "sns.heatmap(covariances)"
   ]
  },
  {
   "cell_type": "code",
   "execution_count": 8,
   "metadata": {},
   "outputs": [
    {
     "data": {
      "text/plain": [
       "array([[0, 0, 0, ..., 0, 0, 0],\n",
       "       [0, 0, 0, ..., 0, 0, 0],\n",
       "       [0, 0, 0, ..., 0, 0, 0],\n",
       "       ...,\n",
       "       [0, 0, 0, ..., 0, 0, 0],\n",
       "       [0, 0, 0, ..., 0, 0, 0],\n",
       "       [1, 0, 0, ..., 0, 0, 0]])"
      ]
     },
     "execution_count": 8,
     "metadata": {},
     "output_type": "execute_result"
    }
   ],
   "source": [
    "features"
   ]
  },
  {
   "cell_type": "code",
   "execution_count": 9,
   "metadata": {},
   "outputs": [
    {
     "data": {
      "text/plain": [
       "array([[-0.22699844, -0.08988124],\n",
       "       [-0.19585331, -0.07119174],\n",
       "       [-0.14766947,  0.73501448],\n",
       "       ...,\n",
       "       [-0.20875385, -0.00414038],\n",
       "       [-0.19224781, -0.03966292],\n",
       "       [-0.22641563, -0.09208625]])"
      ]
     },
     "execution_count": 9,
     "metadata": {},
     "output_type": "execute_result"
    }
   ],
   "source": [
    "pca = PCA(n_components=2)\n",
    "Z_two_dimensions = pca.fit_transform(features)\n",
    "Z_two_dimensions"
   ]
  },
  {
   "cell_type": "code",
   "execution_count": 10,
   "metadata": {},
   "outputs": [
    {
     "data": {
      "image/png": "[encoded data removed]",
      "text/plain": [
       "<Figure size 360x360 with 1 Axes>"
      ]
     },
     "metadata": {
      "needs_background": "light"
     },
     "output_type": "display_data"
    }
   ],
   "source": [
    "import matplotlib.pyplot as plt\n",
    "\n",
    "plt.scatter(Z_two_dimensions[:,0], Z_two_dimensions[:, 1])\n",
    "reduced_features_df = pd.DataFrame(Z_two_dimensions, columns=[\"x1\", \"x2\"])\n",
    "reduced_features_df[\"text\"] = text\n",
    "reduced_features_df.to_csv(\"reduced_features.csv\")"
   ]
  },
  {
   "cell_type": "markdown",
   "metadata": {},
   "source": [
    "# Singular Value Decomposition\n",
    "\n",
    "Given an input matrix $A$, we want to try to represent it instead as three smaller matrices $U$, $\\sum$, and $V$. Instead of **$n$ original terms**, we want to represent each document as **$r$ concepts** (other referred to as **latent dimensions**, or **latent factors**)- from [Mining of Massive Datasets - Dimensionality Reduction: Singular Value Decomposition](https://www.youtube.com/watch?v=P5mlg91as1c):\n",
    "<figure>\n",
    "  <img src=\"https://raw.githubusercontent.com/ychennay/dso-560-nlp-text-analytics/main/images/svd.png\" alt=\"my alt text\"/>\n",
    "    <figcaption><i>\n",
    "        <a href=\"https://www.youtube.com/watch?v=P5mlg91as1c\">Mining of Massive Datasets - Dimensionality Reduction: Singular Value Decomposition</a> by Leskovec, Rajaraman, and Ullman (Stanford University)</i></figcaption>\n",
    "</figure>\n",
    "\n",
    "Here, **$A$ is your matrix of word vectors** - you could use any of the word vectorization techniques we have learned so far, include one-hot encoding, word count, TF-IDF.\n",
    "\n",
    "- $\\sum$ will be a **diagonal matrix** with values that are positive and sorted in decreasing order. Its value indicate the **variance (information encoded on that new dimension)**- therefore, the higher the value, the stronger that dimension is in capturing data from A, the original features. For our purposes, we can think of the rank of this $\\sum$ matrix as the number of desired dimensions. Instance, if we want to reduce $A$ from shape $1020 x 300$ to $1020 x 10$, we will want to reduce the rank of $\\sum$ from 300 to 10.\n",
    "\n",
    "- $U^T U = I$ and $V^T V = I$\n",
    "\n",
    "## Measuring the Quality of the Reconstruction\n",
    "\n",
    "A popular metric used for measuring the quality of the reconstruction is the [Frobenius Norm](https://en.wikipedia.org/wiki/Matrix_norm#Frobenius_norm). When you explain your methodology for reducing dimensions, usually managers / stakeholders will want to some way to compare multiple dimensionality techniques' ability to quantify its ability to retain information but trim dimensions:\n",
    "\n",
    "$$\n",
    "\\begin{equation}\n",
    "||A_{old}-A_{new}||_{F} = \\sqrt{\\sum_{ij}{(A^{old}_{ij}- A^{new}_{ij}}})^2\n",
    "\\end{equation}\n",
    "$$\n",
    "\n",
    "## Heuristic Step for How Many Dimensions to Keep\n",
    "\n",
    "1. Sum the $\\sum$ matrix's diagonal values: \n",
    "$$\n",
    "\\begin{equation}\n",
    "\\sum_{i}^{m}\\sigma_{i}\n",
    "\\end{equation}\n",
    "$$\n",
    "\n",
    "2. Define your threshold of \"information\" (variance) $\\alpha$ to keep: usually 80% to 90%. \n",
    "\n",
    "3. Define your cutoff point $C$: $$\n",
    "\\begin{equation}\n",
    "C = \\sum_{i}^{m}\\sigma_{i} \\alpha\n",
    "\\end{equation}\n",
    "$$\n",
    "\n",
    "4. Beginning with your largest singular value, sum your singular values $\\sigma_{i}$ until it is greater than C. Retain only those dimensions."
   ]
  },
  {
   "cell_type": "code",
   "execution_count": 13,
   "metadata": {},
   "outputs": [
    {
     "name": "stdout",
     "output_type": "stream",
     "text": [
      "[ 1.  2.  3.  4.  5.  6.  7.  8.  9. 10. 11. 12. 13. 14. 15. 16. 17. 18.\n",
      " 19. 20.]\n",
      "[ 1.  2.  3.  4.  5.  6.  7.  8.  9. 10. 11. 12. 13. 14. 15. 16. 17. 18.\n",
      " 19. 20.  1.  2.  3.  4.  5.  6.  7.  8.  9. 10. 11. 12. 13. 14. 15. 16.\n",
      " 17. 18. 19. 20.]\n"
     ]
    },
    {
     "data": {
      "image/png": "[encoded data removed]",
      "text/plain": [
       "<Figure size 360x360 with 1 Axes>"
      ]
     },
     "metadata": {
      "needs_background": "light"
     },
     "output_type": "display_data"
    }
   ],
   "source": [
    "import numpy as np\n",
    "import matplotlib.pyplot as plt\n",
    "from scipy.linalg import svd\n",
    "x = np.linspace(1,20, 20) # create the first dimension\n",
    "print(x)\n",
    "x = np.concatenate((x,x))\n",
    "print(x)\n",
    "y = x + np.random.normal(0,1, 40) # create the second dimension\n",
    "z = x + np.random.normal(0,2, 40) # create the third dimension\n",
    "a = x + np.random.normal(0,4, 40) # create the fourth dimension\n",
    "plt.scatter(x,y) # plot just the first two dimensions\n",
    "plt.show()"
   ]
  },
  {
   "cell_type": "code",
   "execution_count": 12,
   "metadata": {},
   "outputs": [
    {
     "data": {
      "text/plain": [
       "array([[ 1.        ,  1.69437203,  1.69208651,  0.87058747],\n",
       "       [ 2.        ,  2.41907767,  3.32384111, -0.25907257],\n",
       "       [ 3.        ,  3.0499247 ,  3.90859457,  3.99743747],\n",
       "       [ 4.        ,  3.7554863 ,  3.91011499,  4.99650975],\n",
       "       [ 5.        ,  2.22656769,  2.75210183, -0.7394906 ],\n",
       "       [ 6.        ,  6.05116781,  5.33079397,  1.10253531],\n",
       "       [ 7.        ,  7.39296788, 12.31369208, 10.30931498],\n",
       "       [ 8.        ,  7.52814506, 10.51242133,  5.50386746],\n",
       "       [ 9.        ,  7.79841689,  9.18215554,  7.36970096],\n",
       "       [10.        ,  8.41595335, 13.41637398, 11.40707653],\n",
       "       [11.        , 10.38874101, 13.25071651, 16.09659155],\n",
       "       [12.        , 11.08053343, 14.66956158, 10.08219073],\n",
       "       [13.        , 11.38707656, 12.92892795, 10.77128214],\n",
       "       [14.        , 13.04873884, 11.22824555, 22.03760732],\n",
       "       [15.        , 15.53957838, 13.24412304, 13.01457446],\n",
       "       [16.        , 16.43875489, 16.20648093, 17.18273474],\n",
       "       [17.        , 14.59870358, 17.00804778, 19.215887  ],\n",
       "       [18.        , 18.48246135, 20.82205218, 24.81509774],\n",
       "       [19.        , 18.80131344, 19.01076502, 15.13213909],\n",
       "       [20.        , 20.85142714, 20.56385167, 23.44904618],\n",
       "       [ 1.        ,  0.31752152,  4.69455222, -3.15879891],\n",
       "       [ 2.        ,  1.42215426, -1.61983194, 11.43135846],\n",
       "       [ 3.        ,  3.87352739,  2.81165426, -0.80520723],\n",
       "       [ 4.        ,  3.45712374,  3.09232116, -0.74624037],\n",
       "       [ 5.        ,  6.21890597,  8.00928051,  5.68348657],\n",
       "       [ 6.        ,  4.04727955,  6.77971188,  5.77106701],\n",
       "       [ 7.        ,  5.75170526,  5.87110283, 12.26563279],\n",
       "       [ 8.        ,  7.63067855,  8.90534654,  9.15559299],\n",
       "       [ 9.        ,  9.58972569,  8.42774349,  8.06005612],\n",
       "       [10.        , 12.03644645,  7.74775631,  7.18036773],\n",
       "       [11.        , 10.13418663, 11.97445395, 10.1585526 ],\n",
       "       [12.        , 12.78523261, 11.2986507 ,  6.96705608],\n",
       "       [13.        , 13.86663131, 15.5015236 , 17.37555902],\n",
       "       [14.        , 13.65132887, 17.08458135, 11.64164445],\n",
       "       [15.        , 13.72672911, 11.81810866, 13.85191593],\n",
       "       [16.        , 16.56999173, 16.48196331, 15.22801046],\n",
       "       [17.        , 15.00257735, 16.96798997, 18.71274717],\n",
       "       [18.        , 17.67678596, 13.29715794, 22.72908844],\n",
       "       [19.        , 16.58289927, 16.11177166, 10.81613327],\n",
       "       [20.        , 21.22886289, 19.18133081, 15.6075801 ]])"
      ]
     },
     "execution_count": 12,
     "metadata": {},
     "output_type": "execute_result"
    }
   ],
   "source": [
    "A = np.stack([x,y,z,a]).T\n",
    "A"
   ]
  },
  {
   "cell_type": "code",
   "execution_count": 14,
   "metadata": {},
   "outputs": [
    {
     "name": "stdout",
     "output_type": "stream",
     "text": [
      "s is [151.3305244   21.72035144  11.04273094   4.96516667] ((4,))\n",
      "\n",
      "U is [[-0.01730784 -0.02665689 -0.01450825 ... -0.22552145 -0.24995802\n",
      "  -0.28996222]\n",
      " [-0.02452931 -0.11943145 -0.05275183 ...  0.03484372  0.27802463\n",
      "  -0.23446127]\n",
      " [-0.04619908  0.01909436 -0.06308522 ...  0.33987922  0.1707561\n",
      "   0.11390705]\n",
      " ...\n",
      " [-0.23717869  0.25007688  0.31514442 ...  0.78473205 -0.04971583\n",
      "  -0.07772579]\n",
      " [-0.20599109 -0.26597807  0.1954456  ... -0.05190451  0.72742305\n",
      "  -0.07879193]\n",
      " [-0.2506333  -0.19752233  0.18611662 ... -0.05690693 -0.07591741\n",
      "   0.83755541]] ((40, 40))\n",
      "\n",
      "V is [[-0.49803587 -0.4861782  -0.50320174 -0.51222947]\n",
      " [-0.24339241 -0.25791792 -0.37968773  0.85444468]\n",
      " [ 0.38784632  0.49311097 -0.77411175 -0.08466286]\n",
      " [ 0.73640725 -0.67375861 -0.0581054  -0.01942828]] ((4, 4))\n"
     ]
    }
   ],
   "source": [
    "D = 1\n",
    "U, s, V = svd(A)\n",
    "print(f\"s is {s} ({s.shape})\\n\")\n",
    "print(f\"U is {U} ({U.shape})\\n\")\n",
    "print(f\"V is {V} ({V.shape})\")"
   ]
  },
  {
   "cell_type": "code",
   "execution_count": 16,
   "metadata": {},
   "outputs": [
    {
     "name": "stdout",
     "output_type": "stream",
     "text": [
      "24.867015365148166\n"
     ]
    },
    {
     "data": {
      "text/plain": [
       "array([[ -2.61920406,   0.        ,   0.        ,   0.        ],\n",
       "       [ -3.7120326 ,   0.        ,   0.        ,   0.        ],\n",
       "       [ -6.9913314 ,   0.        ,   0.        ,   0.        ],\n",
       "       [ -8.3449153 ,   0.        ,   0.        ,   0.        ],\n",
       "       [ -4.5787616 ,   0.        ,   0.        ,   0.        ],\n",
       "       [ -9.17737701,   0.        ,   0.        ,   0.        ],\n",
       "       [-18.5575572 ,   0.        ,   0.        ,   0.        ],\n",
       "       [-15.75341885,   0.        ,   0.        ,   0.        ],\n",
       "       [-16.66919785,   0.        ,   0.        ,   0.        ],\n",
       "       [-21.66619533,   0.        ,   0.        ,   0.        ],\n",
       "       [-25.44210624,   0.        ,   0.        ,   0.        ],\n",
       "       [-23.90968845,   0.        ,   0.        ,   0.        ],\n",
       "       [-24.03384198,   0.        ,   0.        ,   0.        ],\n",
       "       [-30.25489931,   0.        ,   0.        ,   0.        ],\n",
       "       [-28.35645677,   0.        ,   0.        ,   0.        ],\n",
       "       [-32.91737084,   0.        ,   0.        ,   0.        ],\n",
       "       [-33.96560422,   0.        ,   0.        ,   0.        ],\n",
       "       [-41.13913288,   0.        ,   0.        ,   0.        ],\n",
       "       [-35.92084804,   0.        ,   0.        ,   0.        ],\n",
       "       [-42.45728535,   0.        ,   0.        ,   0.        ],\n",
       "       [ -1.39668485,   0.        ,   0.        ,   0.        ],\n",
       "       [ -6.72786862,   0.        ,   0.        ,   0.        ],\n",
       "       [ -4.37971065,   0.        ,   0.        ,   0.        ],\n",
       "       [ -4.84673678,   0.        ,   0.        ,   0.        ],\n",
       "       [-12.45520911,   0.        ,   0.        ,   0.        ],\n",
       "       [-11.32358776,   0.        ,   0.        ,   0.        ],\n",
       "       [-15.51977263,   0.        ,   0.        ,   0.        ],\n",
       "       [-16.86510702,   0.        ,   0.        ,   0.        ],\n",
       "       [-17.51409194,   0.        ,   0.        ,   0.        ],\n",
       "       [-18.40889708,   0.        ,   0.        ,   0.        ],\n",
       "       [-21.63449135,   0.        ,   0.        ,   0.        ],\n",
       "       [-21.44656405,   0.        ,   0.        ,   0.        ],\n",
       "       [-29.91678732,   0.        ,   0.        ,   0.        ],\n",
       "       [-28.16966522,   0.        ,   0.        ,   0.        ],\n",
       "       [-27.18642703,   0.        ,   0.        ,   0.        ],\n",
       "       [-32.11853116,   0.        ,   0.        ,   0.        ],\n",
       "       [-33.88407864,   0.        ,   0.        ,   0.        ],\n",
       "       [-35.89237577,   0.        ,   0.        ,   0.        ],\n",
       "       [-31.17273954,   0.        ,   0.        ,   0.        ],\n",
       "       [-37.92846944,   0.        ,   0.        ,   0.        ]])"
      ]
     },
     "execution_count": 16,
     "metadata": {},
     "output_type": "execute_result"
    }
   ],
   "source": [
    "s[D:] = 0\n",
    "S = np.zeros((A.shape[0], A.shape[1]))\n",
    "S[:A.shape[1], :A.shape[1]] = np.diag(s)\n",
    "A_reconstructed = U.dot(S.dot(V))\n",
    "print(np.sum((A_reconstructed - A) ** 2) ** (1/2)) # Frobenius norm\n",
    "# reconstruct matrix\n",
    "U.dot(S)"
   ]
  },
  {
   "cell_type": "markdown",
   "metadata": {},
   "source": [
    "## Toy Example of SVD"
   ]
  },
  {
   "cell_type": "code",
   "execution_count": 17,
   "metadata": {},
   "outputs": [
    {
     "name": "stdout",
     "output_type": "stream",
     "text": [
      "B:\n",
      " [[1 2]\n",
      " [3 4]\n",
      " [5 6]]\n"
     ]
    },
    {
     "data": {
      "text/plain": [
       "array([[9.52551809, 0.        ],\n",
       "       [0.        , 0.51430058],\n",
       "       [0.        , 0.        ]])"
      ]
     },
     "execution_count": 17,
     "metadata": {},
     "output_type": "execute_result"
    }
   ],
   "source": [
    "# define a matrix\n",
    "B = np.array([[1, 2], [3, 4], [5, 6]])\n",
    "print(\"B:\\n\", B)\n",
    "# Singular-value decomposition\n",
    "U, s, VT = svd(B)\n",
    "# create m x n Sigma matrix\n",
    "Sigma = np.zeros((B.shape[0],B.shape[1]))\n",
    "# populate Sigma with n x n diagonal matrix\n",
    "Sigma[:B.shape[1], :B.shape[1]] = np.diag(s)\n",
    "Sigma"
   ]
  },
  {
   "cell_type": "markdown",
   "metadata": {},
   "source": [
    "## Scikit Learn Example"
   ]
  },
  {
   "cell_type": "code",
   "execution_count": 18,
   "metadata": {},
   "outputs": [
    {
     "data": {
      "text/plain": [
       "array([[ 0.00000000e+00,  0.00000000e+00,  0.00000000e+00,\n",
       "         0.00000000e+00,  0.00000000e+00],\n",
       "       [ 7.79229538e-02,  1.27227068e-01,  3.22562368e-02,\n",
       "         2.74370729e-01,  2.91152783e-02],\n",
       "       [ 1.60657541e-01,  7.35181254e-01,  4.59382421e-01,\n",
       "        -2.89063886e-01, -5.96763066e-02],\n",
       "       ...,\n",
       "       [ 4.13111129e-02,  1.02957820e-01,  7.57663048e-02,\n",
       "         1.26923398e-02, -4.63758867e-02],\n",
       "       [ 9.67931044e-02,  1.83061206e-01, -1.11431096e-01,\n",
       "         2.17741735e-01, -1.20504596e-01],\n",
       "       [ 2.22516673e-02,  4.05507973e-02,  3.72386954e-03,\n",
       "         7.01469690e-02,  5.58512104e-04]])"
      ]
     },
     "execution_count": 18,
     "metadata": {},
     "output_type": "execute_result"
    }
   ],
   "source": [
    "from sklearn.decomposition import TruncatedSVD\n",
    "\n",
    "svd = TruncatedSVD(n_components=5)\n",
    "reduced_svd_features = svd.fit_transform(features)\n",
    "reduced_svd_features"
   ]
  },
  {
   "cell_type": "code",
   "execution_count": 19,
   "metadata": {},
   "outputs": [
    {
     "data": {
      "text/plain": [
       "array([22.85188153, 12.60752862, 11.23948579, 10.78605678,  9.82927483])"
      ]
     },
     "execution_count": 19,
     "metadata": {},
     "output_type": "execute_result"
    }
   ],
   "source": [
    "svd.singular_values_"
   ]
  },
  {
   "cell_type": "code",
   "execution_count": 20,
   "metadata": {},
   "outputs": [
    {
     "data": {
      "text/plain": [
       "0.589053312468193"
      ]
     },
     "execution_count": 20,
     "metadata": {},
     "output_type": "execute_result"
    }
   ],
   "source": [
    "svd.explained_variance_.sum()"
   ]
  },
  {
   "cell_type": "code",
   "execution_count": null,
   "metadata": {},
   "outputs": [],
   "source": []
  }
 ],
 "metadata": {
  "kernelspec": {
   "display_name": "Python 3 (ipykernel)",
   "language": "python",
   "name": "python3"
  },
  "language_info": {
   "codemirror_mode": {
    "name": "ipython",
    "version": 3
   },
   "file_extension": ".py",
   "mimetype": "text/x-python",
   "name": "python",
   "nbconvert_exporter": "python",
   "pygments_lexer": "ipython3",
   "version": "3.9.7"
  },
  "toc": {
   "base_numbering": 1,
   "nav_menu": {},
   "number_sections": true,
   "sideBar": true,
   "skip_h1_title": false,
   "title_cell": "Table of Contents",
   "title_sidebar": "Contents",
   "toc_cell": false,
   "toc_position": {},
   "toc_section_display": true,
   "toc_window_display": false
  }
 },
 "nbformat": 4,
 "nbformat_minor": 2
}
