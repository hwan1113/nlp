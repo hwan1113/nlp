{
 "cells": [
  {
   "cell_type": "markdown",
   "id": "exempt-flashing",
   "metadata": {},
   "source": [
    "## Using Torch TextRNN to Make Inference On Next Word in Document\n",
    "\n",
    "The below code sample is taken and adapted from [Tae Hwan Jung's code repository](https://github.com/graykode/nlp-tutorial/blob/master/3-1.TextRNN/TextRNN.py). This RNN sequential model is trained to predict the last token of each document."
   ]
  },
  {
   "cell_type": "markdown",
   "id": "convertible-mustang",
   "metadata": {},
   "source": [
    "#### Function to Make Batches of Data"
   ]
  },
  {
   "cell_type": "code",
   "execution_count": 46,
   "id": "defensive-archive",
   "metadata": {},
   "outputs": [],
   "source": [
    "from typing import List, Dict\n",
    "\n",
    "def make_batch(sentences: List[str], word_dict: Dict):\n",
    "    input_batch = []\n",
    "    target_batch = []\n",
    "\n",
    "    for sen in sentences:\n",
    "        word = sen.split()  # space tokenizer\n",
    "        input_text = [word_dict[n] for n in word[:-1]]  # create (1~n-1) as input\n",
    "        target = word_dict[word[-1]]  # create (n) as target, We usually call this 'casual language model'\n",
    "        input_batch.append(np.eye(n_class)[input_text])\n",
    "        target_batch.append(target)\n",
    "\n",
    "    return input_batch, target_batch"
   ]
  },
  {
   "cell_type": "code",
   "execution_count": 17,
   "id": "appreciated-vehicle",
   "metadata": {},
   "outputs": [],
   "source": [
    "# %%\n",
    "# code by Tae Hwan Jung @graykode\n",
    "import numpy as np\n",
    "import torch\n",
    "import torch.nn as nn\n",
    "import torch.optim as optim\n",
    "\n",
    "\n",
    "class TextRNN(nn.Module):\n",
    "    def __init__(self):\n",
    "        super(TextRNN, self).__init__()\n",
    "        \"\"\"\n",
    "        By default, the non-linear function used is tanh.\n",
    "        \"\"\"\n",
    "        self.rnn = nn.RNN(input_size=n_class, hidden_size=n_hidden)\n",
    "        self.W = nn.Linear(n_hidden, n_class, bias=False)\n",
    "        self.b = nn.Parameter(torch.ones([n_class]))\n",
    "\n",
    "    def forward(self, hidden, X):\n",
    "        \"\"\"\n",
    "        This is the forward propagation step of the neural network.\n",
    "        \"\"\"\n",
    "        X = X.transpose(0, 1) # X : [n_step, batch_size, n_class]\n",
    "        outputs, hidden = self.rnn(X, hidden)\n",
    "        # outputs : [n_step, batch_size, num_directions(=1) * n_hidden]\n",
    "        # hidden : [num_layers(=1) * num_directions(=1), batch_size, n_hidden]\n",
    "        outputs = outputs[-1] # [batch_size, num_directions(=1) * n_hidden]\n",
    "        model = self.W(outputs) + self.b # model : [batch_size, n_class]\n",
    "        return model"
   ]
  },
  {
   "cell_type": "markdown",
   "id": "executed-nightmare",
   "metadata": {},
   "source": [
    "### Define Model Hyper Parameters"
   ]
  },
  {
   "cell_type": "code",
   "execution_count": 18,
   "id": "dirty-initial",
   "metadata": {},
   "outputs": [],
   "source": [
    "n_step = 2 # number of cells(= number of Step)\n",
    "n_hidden = 5 # number of hidden units in one cell\n",
    "n_epochs = 5000 # number of epochs to train for"
   ]
  },
  {
   "cell_type": "markdown",
   "id": "manual-monitoring",
   "metadata": {},
   "source": [
    "### Create Some Synthetic Data"
   ]
  },
  {
   "cell_type": "code",
   "execution_count": 47,
   "id": "blind-stomach",
   "metadata": {},
   "outputs": [],
   "source": [
    "sentences = [\"i like dog\", \n",
    "             \"i love coffee\", \n",
    "             \"i hate milk\",\n",
    "            \"i love cat\",\n",
    "            \"i love dog\",\n",
    "            \"i love summer\"]"
   ]
  },
  {
   "cell_type": "markdown",
   "id": "collaborative-smoke",
   "metadata": {},
   "source": [
    "### Text Preprocessing and Feature Engineering\n",
    "\n",
    "Here, we'll use `word_dict` to keep a mapping from the word to its index position in our vocabulary."
   ]
  },
  {
   "cell_type": "code",
   "execution_count": 56,
   "id": "residential-accordance",
   "metadata": {},
   "outputs": [],
   "source": [
    "word_list = \" \".join(sentences).split()\n",
    "word_list = list(set(word_list))\n",
    "word_dict = {w: i for i, w in enumerate(word_list)}\n",
    "number_dict = {i: w for i, w in enumerate(word_list)}\n",
    "n_class = len(word_dict) #9\n",
    "batch_size = len(sentences) #6"
   ]
  },
  {
   "cell_type": "markdown",
   "id": "consolidated-french",
   "metadata": {},
   "source": [
    "### Declare Torch RNN Model\n",
    "\n",
    "We will use cross entropy loss to optimize our model and update weights."
   ]
  },
  {
   "cell_type": "code",
   "execution_count": 49,
   "id": "light-andorra",
   "metadata": {},
   "outputs": [],
   "source": [
    "model = TextRNN()\n",
    "\n",
    "criterion = nn.CrossEntropyLoss()\n",
    "optimizer = optim.Adam(model.parameters(), lr=0.001)\n",
    "\n",
    "input_batch, target_batch = make_batch(sentences, word_dict)\n",
    "input_batch = torch.FloatTensor(input_batch)\n",
    "target_batch = torch.LongTensor(target_batch)"
   ]
  },
  {
   "attachments": {},
   "cell_type": "markdown",
   "id": "headed-automation",
   "metadata": {},
   "source": [
    "### Perform Training\n",
    "What does our model's architecture look like?\n",
    "![torch_architecture.png](https://raw.githubusercontent.com/ychennay/dso-560-nlp-text-analytics/main/images/torch_architecture.png)"
   ]
  },
  {
   "cell_type": "code",
   "execution_count": 50,
   "id": "fifty-stamp",
   "metadata": {},
   "outputs": [
    {
     "name": "stdout",
     "output_type": "stream",
     "text": [
      "Epoch: 1000 cost = 1.080427\n",
      "Epoch: 2000 cost = 0.947754\n",
      "Epoch: 3000 cost = 0.932738\n",
      "Epoch: 4000 cost = 0.928236\n",
      "Epoch: 5000 cost = 0.926339\n"
     ]
    }
   ],
   "source": [
    "# Training\n",
    "for epoch in range(n_epochs):\n",
    "    optimizer.zero_grad()\n",
    "\n",
    "    # hidden : [num_layers * num_directions, batch, hidden_size]\n",
    "    hidden = torch.zeros(1, batch_size, n_hidden)\n",
    "    # input_batch : [batch_size, n_step, n_class]\n",
    "    output = model(hidden, input_batch)\n",
    "\n",
    "    # output : [batch_size, n_class], target_batch : [batch_size] (LongTensor, not one-hot)\n",
    "    loss = criterion(output, target_batch)\n",
    "    if (epoch + 1) % 1000 == 0:\n",
    "        print('Epoch:', '%04d' % (epoch + 1), 'cost =', '{:.6f}'.format(loss))\n",
    "\n",
    "    loss.backward()\n",
    "    optimizer.step()"
   ]
  },
  {
   "cell_type": "markdown",
   "id": "assigned-cache",
   "metadata": {},
   "source": [
    "### Make Inferences"
   ]
  },
  {
   "cell_type": "code",
   "execution_count": 52,
   "id": "public-congo",
   "metadata": {},
   "outputs": [
    {
     "data": {
      "text/plain": [
       "[['i', 'like'],\n",
       " ['i', 'love'],\n",
       " ['i', 'hate'],\n",
       " ['i', 'love'],\n",
       " ['i', 'love'],\n",
       " ['i', 'love']]"
      ]
     },
     "execution_count": 52,
     "metadata": {},
     "output_type": "execute_result"
    }
   ],
   "source": [
    "inputs = [sen.split()[:2] for sen in sentences]\n",
    "inputs"
   ]
  },
  {
   "cell_type": "code",
   "execution_count": 53,
   "id": "dietary-mileage",
   "metadata": {},
   "outputs": [
    {
     "name": "stdout",
     "output_type": "stream",
     "text": [
      "['i', 'like'] -> dog\n",
      "['i', 'love'] -> dog\n",
      "['i', 'hate'] -> milk\n",
      "['i', 'love'] -> dog\n",
      "['i', 'love'] -> dog\n",
      "['i', 'love'] -> dog\n"
     ]
    }
   ],
   "source": [
    "# Predict\n",
    "hidden = torch.zeros(1, batch_size, n_hidden)\n",
    "predict = model(hidden, input_batch).data.max(1, keepdim=True)[1]\n",
    "for sentence, predicted_index in zip(sentences,predict.squeeze()):\n",
    "    input_text = sentence.split()[:2]\n",
    "    predicted_next_token = number_dict[predicted_index.item()]\n",
    "    print(f\"{input_text} -> {predicted_next_token}\")"
   ]
  },
  {
   "cell_type": "markdown",
   "id": "found-recovery",
   "metadata": {},
   "source": [
    "The `predict` object here is a tensor of the index positions for the predicted next token. We can use the `number_dict` to look up what the original token was:"
   ]
  },
  {
   "cell_type": "code",
   "execution_count": 54,
   "id": "illegal-lunch",
   "metadata": {},
   "outputs": [
    {
     "data": {
      "text/plain": [
       "tensor([[2],\n",
       "        [2],\n",
       "        [8],\n",
       "        [2],\n",
       "        [2],\n",
       "        [2]])"
      ]
     },
     "execution_count": 54,
     "metadata": {},
     "output_type": "execute_result"
    }
   ],
   "source": [
    "predict"
   ]
  },
  {
   "cell_type": "code",
   "execution_count": 55,
   "id": "geographic-thread",
   "metadata": {},
   "outputs": [
    {
     "data": {
      "text/plain": [
       "{0: 'coffee',\n",
       " 1: 'cat',\n",
       " 2: 'dog',\n",
       " 3: 'summer',\n",
       " 4: 'love',\n",
       " 5: 'like',\n",
       " 6: 'hate',\n",
       " 7: 'i',\n",
       " 8: 'milk'}"
      ]
     },
     "execution_count": 55,
     "metadata": {},
     "output_type": "execute_result"
    }
   ],
   "source": [
    "number_dict"
   ]
  },
  {
   "cell_type": "markdown",
   "id": "nervous-sister",
   "metadata": {},
   "source": [
    "### Inspecting the Model's Weight Shape"
   ]
  },
  {
   "cell_type": "code",
   "execution_count": 66,
   "id": "dutch-detail",
   "metadata": {},
   "outputs": [
    {
     "name": "stdout",
     "output_type": "stream",
     "text": [
      "TextRNN(\n",
      "  (rnn): RNN(9, 5)\n",
      "  (W): Linear(in_features=5, out_features=9, bias=False)\n",
      ")\n"
     ]
    }
   ],
   "source": [
    "print(model)"
   ]
  }
 ],
 "metadata": {
  "kernelspec": {
   "display_name": "Python 3",
   "language": "python",
   "name": "python3"
  },
  "language_info": {
   "codemirror_mode": {
    "name": "ipython",
    "version": 3
   },
   "file_extension": ".py",
   "mimetype": "text/x-python",
   "name": "python",
   "nbconvert_exporter": "python",
   "pygments_lexer": "ipython3",
   "version": "3.8.5"
  },
  "toc": {
   "base_numbering": 1,
   "nav_menu": {},
   "number_sections": true,
   "sideBar": true,
   "skip_h1_title": false,
   "title_cell": "Table of Contents",
   "title_sidebar": "Contents",
   "toc_cell": false,
   "toc_position": {},
   "toc_section_display": true,
   "toc_window_display": false
  }
 },
 "nbformat": 4,
 "nbformat_minor": 5
}
